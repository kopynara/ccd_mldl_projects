{
 "cells": [
  {
   "cell_type": "code",
   "execution_count": 10,
   "id": "6ce16231",
   "metadata": {},
   "outputs": [
    {
     "name": "stdout",
     "output_type": "stream",
     "text": [
      "     pclass  sex        age  sibsp  parch     fare  embarked    who  \\\n",
      "0         3    0  22.000000      1      0   7.2500         0    man   \n",
      "1         1    1  38.000000      1      0  71.2833         1  woman   \n",
      "2         3    1  26.000000      0      0   7.9250         0  woman   \n",
      "3         1    1  35.000000      1      0  53.1000         0  woman   \n",
      "4         3    0  35.000000      0      0   8.0500         0    man   \n",
      "..      ...  ...        ...    ...    ...      ...       ...    ...   \n",
      "886       2    0  27.000000      0      0  13.0000         0    man   \n",
      "887       1    1  19.000000      0      0  30.0000         0  woman   \n",
      "888       3    1  29.699118      1      2  23.4500         0  woman   \n",
      "889       1    0  26.000000      0      0  30.0000         1    man   \n",
      "890       3    0  32.000000      0      0   7.7500         2    man   \n",
      "\n",
      "     adult_male deck  embark_town alive  alone  survived  \n",
      "0          True  NaN  Southampton    no  False         0  \n",
      "1         False    C    Cherbourg   yes  False         1  \n",
      "2         False  NaN  Southampton   yes   True         1  \n",
      "3         False    C  Southampton   yes  False         1  \n",
      "4          True  NaN  Southampton    no   True         0  \n",
      "..          ...  ...          ...   ...    ...       ...  \n",
      "886        True  NaN  Southampton    no   True         0  \n",
      "887       False    B  Southampton   yes   True         1  \n",
      "888       False  NaN  Southampton    no  False         0  \n",
      "889        True    C    Cherbourg   yes   True         1  \n",
      "890        True  NaN   Queenstown    no   True         0  \n",
      "\n",
      "[891 rows x 14 columns]\n"
     ]
    }
   ],
   "source": [
    "# --- 1. 전처리된 CSV 파일 불러오기 ---\n",
    "import pandas as pd\n",
    "from sklearn.model_selection import train_test_split\n",
    "\n",
    "# 분리 완료된 CSV 파일을 불러옵니다.\n",
    "\n",
    "df = pd.read_csv('타이타닉_분리완료_mldl_250801.csv')\n",
    "print(df)"
   ]
  },
  {
   "cell_type": "code",
   "execution_count": null,
   "id": "14fcefaa",
   "metadata": {},
   "outputs": [
    {
     "name": "stdout",
     "output_type": "stream",
     "text": [
      "X 데이터의 행 개수: 891\n",
      "y 데이터의 행 개수: 891\n"
     ]
    }
   ],
   "source": [
    "\n",
    "# --- 2. 특성(X)과 타겟(y) 분리 ---\n",
    "# 불러온 DataFrame에서 특성(X)과 타겟(y)을 다시 분리합니다.\n",
    "\n",
    "y = df['survived']\n",
    "X = df.drop('survived', axis=1)\n",
    "\n",
    "# X와 y의 행 개수(크기) 확인\n",
    "# X.shape는 (행, 열) 형태의 튜플을 반환하고, X.shape[0]은 그중 첫 번째 값인 행 개수를 가져와.\n",
    "\n",
    "print(f\"X 데이터의 행 개수: {X.shape[0]}\")\n",
    "print(f\"y 데이터의 행 개수: {y.shape[0]}\")"
   ]
  },
  {
   "cell_type": "code",
   "execution_count": 24,
   "id": "febbbc4b",
   "metadata": {},
   "outputs": [],
   "source": [
    "\n",
    "# --- 3. 훈련/테스트 데이터 분리 ---\n",
    "\n",
    "# # - train_test_split() 함수를 사용해 X와 y를 훈련용(train)과 테스트용(test)으로 나눕니다.\n",
    "# # - test_size=0.2: 전체 데이터 중 20%를 테스트 데이터로 사용하겠다는 의미입니다.\n",
    "# # - random_state: 데이터를 나눌 때 무작위성을 제어합니다. 이 값을 지정해야 나중에 다시 실행해도 똑같은 결과가 나옵니다.\n",
    "\n",
    "X_train, X_test, y_train, y_test = train_test_split(X, y, test_size=0.2, random_state=42)"
   ]
  },
  {
   "cell_type": "code",
   "execution_count": 25,
   "id": "6d6b0a56",
   "metadata": {},
   "outputs": [
    {
     "name": "stdout",
     "output_type": "stream",
     "text": [
      "--- 훈련/테스트 데이터 분리 완료, 크기 확인. ---\n",
      "X_train 훈련 데이터 크기: 712 행\n",
      "X_test 테스트 데이터 크기: 179 행\n",
      "y_train 훈련 데이터 크기: 712 행\n",
      "y_test 테스트 데이터 크기: 179 행\n"
     ]
    }
   ],
   "source": [
    "\n",
    "# --- 4. 분리 결과 확인 ---\n",
    "\n",
    "# 분리된 데이터의 크기를 확인합니다.\n",
    "# 891의 20%는 178.2인데, train_test_split가 자동으로 반올림해서 테스트 데이터는 179개로 나뉠 거야.\n",
    "# 남은 712개(891 - 179)가 훈련 데이터가 되겠지.\n",
    "\n",
    "print(\"--- 훈련/테스트 데이터 분리 완료, 크기 확인. ---\")\n",
    "print(f\"X_train 훈련 데이터 크기: {X_train.shape[0]} 행\")\n",
    "print(f\"X_test 테스트 데이터 크기: {X_test.shape[0]} 행\")\n",
    "print(f\"y_train 훈련 데이터 크기: {y_train.shape[0]} 행\")\n",
    "print(f\"y_test 테스트 데이터 크기: {y_test.shape[0]} 행\")\n"
   ]
  }
 ],
 "metadata": {
  "kernelspec": {
   "display_name": "mldl250801",
   "language": "python",
   "name": "python3"
  },
  "language_info": {
   "codemirror_mode": {
    "name": "ipython",
    "version": 3
   },
   "file_extension": ".py",
   "mimetype": "text/x-python",
   "name": "python",
   "nbconvert_exporter": "python",
   "pygments_lexer": "ipython3",
   "version": "3.9.23"
  }
 },
 "nbformat": 4,
 "nbformat_minor": 5
}
