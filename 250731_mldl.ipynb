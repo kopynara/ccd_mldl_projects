{
 "cells": [
  {
   "cell_type": "markdown",
   "id": "4415f8e2",
   "metadata": {},
   "source": [
    "단계 0: 필요한 라이브러리 임포트 및 데이터 로드\n",
    "시작하기 전에 필요한 라이브러리들을 불러오고 데이터를 로드합니다.\n",
    "이 부분은 한 번만 실행하면 됩니다."
   ]
  },
  {
   "cell_type": "code",
   "execution_count": 8,
   "id": "61f6787e",
   "metadata": {},
   "outputs": [
    {
     "name": "stdout",
     "output_type": "stream",
     "text": [
      "데이터 로드 완료.\n"
     ]
    }
   ],
   "source": [
    "import pandas as pd\n",
    "import seaborn as sns\n",
    "from sklearn.model_selection import train_test_split\n",
    "from sklearn.neighbors import KNeighborsClassifier\n",
    "from sklearn.preprocessing import LabelEncoder\n",
    "from sklearn.metrics import accuracy_score # 마지막 정확도 계산을 위해 미리 임포트\n",
    "\n",
    "# 펭귄 데이터셋 로드\n",
    "df = sns.load_dataset('penguins')\n",
    "\n",
    "print(\"데이터 로드 완료.\")"
   ]
  },
  {
   "cell_type": "code",
   "execution_count": null,
   "id": "e43f1acb",
   "metadata": {},
   "outputs": [],
   "source": [
    "단계 1: 데이터 전처리 및 결측치 처리\n",
    "데이터에 있는 빈 값(결측치)을 제거하고, 머신러닝 모델이 이해할 수 있도록 '글자' 형태의 데이터를 '숫자'로 바꿔주는 과정입니다."
   ]
  },
  {
   "cell_type": "code",
   "execution_count": 9,
   "id": "cfea2f4d",
   "metadata": {},
   "outputs": [
    {
     "name": "stdout",
     "output_type": "stream",
     "text": [
      "결측치 제거 완료.\n",
      "범주형 특성 'island'와 'sex' 인코딩 완료.\n",
      "      island  island_encoded     sex  sex_encoded\n",
      "0  Torgersen               2    Male            1\n",
      "1  Torgersen               2  Female            0\n",
      "2  Torgersen               2  Female            0\n",
      "4  Torgersen               2  Female            0\n",
      "5  Torgersen               2    Male            1\n"
     ]
    }
   ],
   "source": [
    "# 1.1 결측치 제거\n",
    "df = df.dropna()\n",
    "\n",
    "print(\"결측치 제거 완료.\")\n",
    "\n",
    "# 1.2 범주형 특성(Categorical Features) 인코딩 (숫자로 변환)\n",
    "# 'island', 'sex' 컬럼을 숫자로 변환합니다.\n",
    "# 'species'는 타겟이므로 나중에 별도로 처리합니다.\n",
    "\n",
    "le_island = LabelEncoder()\n",
    "df['island_encoded'] = le_island.fit_transform(df['island'])\n",
    "\n",
    "le_sex = LabelEncoder()\n",
    "df['sex_encoded'] = le_sex.fit_transform(df['sex'])\n",
    "\n",
    "print(\"범주형 특성 'island'와 'sex' 인코딩 완료.\")\n",
    "print(df[['island', 'island_encoded', 'sex', 'sex_encoded']].head())"
   ]
  },
  {
   "cell_type": "markdown",
   "id": "36a90a0f",
   "metadata": {},
   "source": [
    "단계 2: 특성과 타겟 분리 및 데이터 분할\n",
    "이제 데이터에서 예측에 사용할 입력 정보(X, Features)와 예측하려는 값(y, Target)을 나누고, 학습용과 테스트용으로 데이터를 분리합니다."
   ]
  },
  {
   "cell_type": "code",
   "execution_count": 10,
   "id": "4c3da85c",
   "metadata": {},
   "outputs": [
    {
     "name": "stdout",
     "output_type": "stream",
     "text": [
      "특성(X)과 타겟(y) 분리 및 타겟 인코딩 완료.\n",
      "X (특성) 컬럼: ['bill_length_mm', 'bill_depth_mm', 'flipper_length_mm', 'body_mass_g', 'island_encoded', 'sex_encoded']\n",
      "y (타겟) 클래스: ['Adelie' 'Chinstrap' 'Gentoo']\n",
      "\n",
      "데이터 분할 완료.\n",
      "훈련 데이터 X_train 크기: (266, 6)\n",
      "테스트 데이터 X_test 크기: (67, 6)\n"
     ]
    }
   ],
   "source": [
    "# 특성(X)과 타겟(y) 분리\n",
    "# 예측에 사용할 컬럼들만 X에 담습니다.\n",
    "X = df[['bill_length_mm', 'bill_depth_mm', 'flipper_length_mm', 'body_mass_g', 'island_encoded', 'sex_encoded']]\n",
    "\n",
    "# 타겟(y)은 'species' 컬럼입니다. 이 컬럼도 숫자로 변환합니다.\n",
    "le_species = LabelEncoder()\n",
    "y = le_species.fit_transform(df['species'])\n",
    "\n",
    "print(\"특성(X)과 타겟(y) 분리 및 타겟 인코딩 완료.\")\n",
    "print(\"X (특성) 컬럼:\", X.columns.tolist())\n",
    "print(\"y (타겟) 클래스:\", le_species.classes_)\n",
    "\n",
    "# 훈련 세트와 테스트 세트로 데이터 분할 (80% 훈련, 20% 테스트)\n",
    "X_train, X_test, y_train, y_test = train_test_split(X, y, test_size=0.2, random_state=42, stratify=y)\n",
    "\n",
    "print(f\"\\n데이터 분할 완료.\")\n",
    "print(f\"훈련 데이터 X_train 크기: {X_train.shape}\")\n",
    "print(f\"테스트 데이터 X_test 크기: {X_test.shape}\")"
   ]
  },
  {
   "cell_type": "markdown",
   "id": "c5737612",
   "metadata": {},
   "source": [
    "단계 3: 모델 선택 및 학습\n",
    "이제 분류 모델로 KNeighborsClassifier를 선택하고, 훈련 데이터를 사용해서 모델을 학습시킵니다."
   ]
  },
  {
   "cell_type": "code",
   "execution_count": 12,
   "id": "ef839d23",
   "metadata": {},
   "outputs": [
    {
     "name": "stdout",
     "output_type": "stream",
     "text": [
      "모델 학습 완료 (KNeighborsClassifier).\n"
     ]
    }
   ],
   "source": [
    "# 모델 선택: K-최근접 이웃 분류기 (KNeighborsClassifier)\n",
    "# n_neighbors=5는 가장 가까운 5개의 이웃을 고려하겠다는 의미입니다.\n",
    "model = KNeighborsClassifier(n_neighbors=5)\n",
    "\n",
    "# 훈련 데이터(X_train, y_train)로 모델 학습\n",
    "model.fit(X_train, y_train)\n",
    "\n",
    "print(\"모델 학습 완료 (KNeighborsClassifier).\")"
   ]
  },
  {
   "cell_type": "markdown",
   "id": "49e0c25b",
   "metadata": {},
   "source": [
    "단계 4: 모델 예측\n",
    "학습된 모델을 사용하여, 모델이 한 번도 보지 못한 테스트 데이터를 예측해 봅니다."
   ]
  },
  {
   "cell_type": "code",
   "execution_count": 14,
   "id": "201c61d6",
   "metadata": {},
   "outputs": [
    {
     "name": "stdout",
     "output_type": "stream",
     "text": [
      "테스트 데이터 예측 완료.\n",
      "예측 결과 (y_pred) 첫 5개: [2 1 0 2 2]\n",
      "실제 값 (y_test) 첫 5개: [2 1 0 2 2]\n"
     ]
    }
   ],
   "source": [
    "# 학습된 모델로 테스트 세트(X_test)의 species를 예측\n",
    "y_pred = model.predict(X_test)\n",
    "\n",
    "print(\"테스트 데이터 예측 완료.\")\n",
    "print(\"예측 결과 (y_pred) 첫 5개:\", y_pred[:5])\n",
    "print(\"실제 값 (y_test) 첫 5개:\", y_test[:5])"
   ]
  },
  {
   "cell_type": "markdown",
   "id": "2dbb6890",
   "metadata": {},
   "source": [
    "단계 5: 모델 평가 (정확도 계산)\n",
    "모델이 얼마나 정확하게 예측했는지 '정확도(Accuracy)'를 계산하여 모델의 성능을 평가합니다."
   ]
  },
  {
   "cell_type": "code",
   "execution_count": 15,
   "id": "4c1236de",
   "metadata": {},
   "outputs": [
    {
     "name": "stdout",
     "output_type": "stream",
     "text": [
      "\n",
      "모델 평가 완료.\n",
      "정확도 (Accuracy): 0.7313\n"
     ]
    }
   ],
   "source": [
    "# 실제 값(y_test)과 예측 값(y_pred)을 비교하여 정확도 계산\n",
    "accuracy = accuracy_score(y_test, y_pred)\n",
    "\n",
    "print(f\"\\n모델 평가 완료.\")\n",
    "print(f\"정확도 (Accuracy): {accuracy:.4f}\") # 소수점 넷째 자리까지 표시"
   ]
  },
  {
   "cell_type": "markdown",
   "id": "222be8bc",
   "metadata": {},
   "source": [
    "[ 머신러닝에서 수학공식처럼 반복으로 사용할수있는 명령어 모음 ]\n",
    "\n",
    "1. 데이터 로드 (다른 데이터셋 불러올 때):\n",
    "파일에서 CSV 데이터 로드:\n",
    "\n",
    "# df = pd.read_csv('your_data_file.csv')\n",
    "\n",
    "(your_data_file.csv 대신 원하는 CSV 파일 이름을 넣으세요.)\n",
    "\n",
    "2. 결측치 처리 (빈 값 다룰 때):\n",
    "결측치가 있는 행 제거 (가장 간단):\n",
    "\n",
    "Python\n",
    "\n",
    "# df = df.dropna()\n",
    "\n",
    "특정 컬럼의 결측치를 평균값으로 채우기:\n",
    "\n",
    "Python\n",
    "\n",
    "# df['컬럼이름'].fillna(df['컬럼이름'].mean(), inplace=True)\n",
    "\n",
    "(컬럼이름을 실제 컬럼 이름으로 바꾸세요.)\n",
    "\n",
    "3. 범주형 데이터 숫자로 변환 (Label Encoding):\n",
    "새로운 범주형 컬럼을 숫자로 바꿀 때:\n",
    "\n",
    "Python\n",
    "\n",
    "# from sklearn.preprocessing import LabelEncoder\n",
    "# le_컬럼이름 = LabelEncoder()\n",
    "# df['새로운_인코딩_컬럼이름'] = le_컬럼이름.fit_transform(df['원래_컬럼이름'])\n",
    "(컬럼이름, 새로운_인코딩_컬럼이름, 원래_컬럼이름을 실제 이름으로 바꾸세요.)\n",
    "\n",
    "4. 특성(X)과 타겟(y) 분리:\n",
    "새로운 문제에서 X와 y를 나눌 때:\n",
    "\n",
    "# X = df[['feature1', 'feature2', 'feature3']] # 예측에 사용할 컬럼들\n",
    "# y = df['target_column'] # 예측하려는 컬럼\n",
    "\n",
    "(feature1, feature2, target_column 등을 실제 컬럼 이름으로 바꾸세요.)\n",
    "\n",
    "5. 데이터 분할 (훈련/테스트 세트):\n",
    "다른 데이터셋이나 비율로 나눌 때:\n",
    "\n",
    "Python\n",
    "\n",
    "# from sklearn.model_selection import train_test_split\n",
    "# X_train, X_test, y_train, y_test = train_test_split(X, y, test_size=0.2, random_state=42, stratify=y)\n",
    "(test_size를 0.2(20%) 외 다른 비율로 바꾸거나, random_state를 다른 숫자로 바꿔 결과를 다르게 볼 수 있습니다.)\n",
    "\n",
    "6. 모델 학습 및 예측:\n",
    "다른 분류 모델을 시도할 때 (예: 결정 트리):\n",
    "\n",
    "# from sklearn.tree import DecisionTreeClassifier\n",
    "# model = DecisionTreeClassifier(random_state=42) # 모델 선택만 바꾸면 됨\n",
    "# model.fit(X_train, y_train)\n",
    "# y_pred = model.predict(X_test)\n",
    "\n",
    "(KNeighborsClassifier 대신 다른 모델 클래스 이름만 바꾸세요. 예를 들어 LogisticRegression, SVC 등)\n",
    "\n",
    "7. 모델 평가 (정확도):\n",
    "정확도를 계산할 때:\n",
    "\n",
    "Python\n",
    "\n",
    "# from sklearn.metrics import accuracy_score\n",
    "# accuracy = accuracy_score(y_test, y_pred)\n",
    "# print(f\"정확도: {accuracy:.4f}\")\n",
    "이 공식들을 익혀두시면 앞으로 다양한 데이터와 모델에 적용하면서 머신러닝 학습을 빠르게 진행하실 수 있을 거예요."
   ]
  }
 ],
 "metadata": {
  "kernelspec": {
   "display_name": "mldl250801",
   "language": "python",
   "name": "python3"
  },
  "language_info": {
   "codemirror_mode": {
    "name": "ipython",
    "version": 3
   },
   "file_extension": ".py",
   "mimetype": "text/x-python",
   "name": "python",
   "nbconvert_exporter": "python",
   "pygments_lexer": "ipython3",
   "version": "3.9.23"
  }
 },
 "nbformat": 4,
 "nbformat_minor": 5
}
