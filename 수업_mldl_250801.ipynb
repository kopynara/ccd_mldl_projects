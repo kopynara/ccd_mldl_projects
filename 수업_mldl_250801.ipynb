{
 "cells": [
  {
   "cell_type": "markdown",
   "id": "ace31c2d",
   "metadata": {},
   "source": [
    "1. 데이터 준비\n",
    "    - 결측치. 지우기 또는 채우기\n",
    "    - 데이터 타입 통일. 문자는 숫자로 (str -> int, float)\n",
    "    - merge, 칼럼 선택\n",
    "    - 특성 선택 feature selection, feature extraction\n",
    "    - 스케일링. 이상치를 일반화\n",
    "    - 데이터 분포 (균형, 불균형 데이터)\n",
    "    - 훈련 세트, 예측 세트 분리 (train_test_split())\n",
    "\n",
    "2. 모델 만들기\n",
    "    - 분류, 회귀, 등등 문제에 따른 모델 선택\n",
    "    - 여러가지 모델을 선택 가능\n",
    "    - 모델 내부 알고리즘 살펴보기 \n",
    "\n",
    "3. 학습\n",
    "    - fit()\n",
    "    - 몇가지 하이퍼파라미터 조정\n",
    "    - 학습 결과물인 객체(=가중치)를 살펴보기\n",
    "\n",
    "4. 예측 (추론)\n",
    "    - predict() : inference하기. 추론칩\n",
    "    - 예측한 과정 살펴 보기(확률 > 0.5) threshoud ? predict_proba\n",
    "\n",
    "\n",
    "5. 평가\n",
    "    - 정확도\n",
    "    - recall\n",
    "    - precision\n",
    "    - F1 score\n",
    "    "
   ]
  },
  {
   "cell_type": "markdown",
   "id": "f959351a",
   "metadata": {},
   "source": []
  }
 ],
 "metadata": {
  "language_info": {
   "name": "python"
  }
 },
 "nbformat": 4,
 "nbformat_minor": 5
}
