{
 "cells": [
  {
   "cell_type": "code",
   "execution_count": null,
   "id": "f93697a3",
   "metadata": {},
   "outputs": [],
   "source": [
    "from sklearn.model_selection import GridSearchCV\n",
    "param_grid = {'criterion':('gini', 'entropy'), 'min_samples_leaf':[1, 2,3,4,5], 'min_samples_split':[5,10,15,20]}\n",
    "dt_grid = GridSearchCV(dt, param_grid = param_grid  ,scoring='accuracy', cv=10)\n",
    "\n",
    "dt_grid.fit(X_train, y_train)\n",
    "\n",
    "dt_grid.best_score_\n",
    "\n",
    "dt_grid.best_params_\n",
    "\n",
    "# dt = DecisionTreeClassifier(criterion='entropy', min_samples_leaf=5, min_samples_split= 5 )\n",
    "dt_best = dt_grid.best_estimator_\n",
    "\n",
    "preds = dt_best.predict(X_test)\n",
    "accuracy_score(y_test, preds) "
   ]
  }
 ],
 "metadata": {
  "language_info": {
   "name": "python"
  }
 },
 "nbformat": 4,
 "nbformat_minor": 5
}
