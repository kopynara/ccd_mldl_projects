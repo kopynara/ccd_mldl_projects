{
 "cells": [
  {
   "cell_type": "code",
   "execution_count": 7,
   "id": "090c795b",
   "metadata": {},
   "outputs": [],
   "source": [
    "# [오늘의 학습 목표]\n",
    "# 결측치(Missing Value) 개념 이해하기.\n",
    "\n",
    "# 오늘 사용할 데이터셋은 '타이타닉(Titanic)' 데이터셋입니다. \n",
    "\n",
    "# 타이타닉 데이터셋\n",
    "# 데이터셋 설명: 타이타닉호 승객들의 생존 여부(survived)를 포함한 다양한 정보를 담고 있습니다.\n",
    "\n",
    "# --- 1. 데이터 로드 ---\n",
    "# seaborn 라이브러리를 사용해 내장된 타이타닉 데이터셋을 불러옵니다.\n",
    "\n",
    "#\n",
    "#\n",
    "#\n",
    "\n",
    "\n",
    "# --- 2. 데이터 탐색 및 전처리 계획 수립 * 실무 워크 플로우 * ---\n",
    "\n",
    "# 2.1 df.info()를 실행해 결측치와 데이터 타입을 확인\n",
    "\n",
    "# 2.2 * df.select_dtypes().unique() * 범주형 컬럼을 자동으로 찾아 고유값을 확인\n",
    "# Pandas의 select_dtypes()라는 활용해 (예: object, category)을 범주형 컬럼 자동으로 선택하기\n",
    "\n",
    "# 위 결과를 바탕으로 아래와 같은 전처리 계획을 수립:\n",
    "# - age 컬럼 결측치는 평균값으로 채운다.\n",
    "# - embarked 컬럼 결측치는 최빈값으로 채운다.\n",
    "# - sex와 embarked 컬럼을 숫자로 변환한다.\n",
    "#\n",
    "\n",
    "#\n",
    "\n",
    "\n",
    "# 3.1 결측치 처리\n",
    "#  빈 값(결측치)들은 모델이 학습할 수 없기 때문에 어떤 방식으로든 채워주거나 없애야 해.\n",
    "\n",
    "# 'age' 컬럼의 결측치를 평균값으로 채워 넣기\n",
    "# .fillna(): 비어있는 값을 채워주는 함수\n",
    "# .mean(): 평균을 계산하는 함수\n",
    "#\n",
    "\n",
    "\n",
    "# 1. df['embarked'].mode(): embarked 컬럼에서 가장 많이 등장한 값(최빈값)을 찾아. 예를 들어 'S'가 가장 많았다고 해보자.\n",
    "# 2. mode()[0]: 가장 많이 등장한 값을 찾아줘. mode()는 결과를 여러 개 반환할 수 있어서, [0]을 붙여서 그중 첫 번째 값('S')만 골라줘.\n",
    "# 3. df['embarked'].fillna(...): fillna() 함수가 'S'라는 값으로 embarked 컬럼의 모든 비어있는 칸을 채워.\n",
    "# 4. df['embarked'] = ...: 마지막으로, 채워진 embarked 컬럼을 원본 데이터에 다시 덮어씌워서 저장해.\n",
    "#\n",
    "\n",
    "#\n",
    "\n",
    "\n",
    "# 3.2 불필요한 컬럼 제거\n",
    "\n",
    "# 'Cabin', 'Name', 'Ticket' 컬럼 제거\n",
    "#\n",
    "\n",
    "#\n",
    "\n",
    "# 3.2 범주형 데이터 변환\n",
    "#\n",
    "\n",
    "\n",
    "# --- 4. 1차 전처리 완료된 데이터를 CSV 파일로 저장 ---\n",
    "\n",
    "# 파일명에 한글과 날짜 형식을 포함합니다.\n",
    "\n",
    "# index=False는 DataFrame에 인덱스(0, 1, 2...)를 불필요하게 CSV에 컬럼으로 저장하지 않습니다.\n",
    "# 나중에 파일을 다시 불러올 때, Pandas가 새로운 인덱스를 자동으로 생성하기 때문입니다.\n"
   ]
  },
  {
   "cell_type": "code",
   "execution_count": 8,
   "id": "b0481668",
   "metadata": {},
   "outputs": [],
   "source": [
    "# <!-- dtypes: bool(2), category(2), float64(2), int64(4), object(5) 이 출력 값은\n",
    "\n",
    "# bool(2): bool 타입의 컬럼이 2개\n",
    "# category(2): category 타입의 컬럼이 2개\n",
    "# float64(2): float64 타입의 컬럼이 2개\n",
    "# int64(4): int64 타입의 컬럼이 4개\n",
    "# object(5): object 타입의 컬럼이 5개\n",
    "\n",
    "# 이렇게 각 데이터 타입별로 컬럼이 몇 개씩 있는지 숫자로 요약해서 보여주는 거야. \n",
    "# df.info()가 데이터에 대한 전반적인 통계를 한눈에 보여주는 아주 유용한 기능이라는 걸 알 수 있지. -->"
   ]
  },
  {
   "cell_type": "code",
   "execution_count": 9,
   "id": "f4eed720",
   "metadata": {},
   "outputs": [],
   "source": [
    "# <!-- object와 category 타입:\n",
    "# object: 단순한 텍스트 데이터. 'male', 'female'처럼 글자로 된 값이야.\n",
    "# category: 텍스트 데이터 중에서도 종류가 한정적일 때, 메모리를 아끼기 위해 쓰는 효율적인 타입이야. 데이터 분석에서는 둘 다 범주형 데이터로 취급하면 돼.\n",
    "\n",
    "# select_dtypes()의 역할:\n",
    "# df.select_dtypes(include=['object', 'category']) 코드는 데이터프레임에서 object와 category 타입의 모든 컬럼을 자동으로 선택해 줘.\n",
    "# 이 방식을 쓰면 컬럼 이름이 바뀌거나 추가되더라도 코드를 수정할 필요가 없어서 매우 효율적이야.\n",
    "\n",
    "# Categories의 의미:\n",
    "# Categories (숫자, object)는 해당 컬럼이 category 타입이며, 총 몇 개의 고유한 카테고리(숫자)가 있고, 원래는 object(텍스트) 타입이었음을 알려주는 정보야. -->"
   ]
  },
  {
   "cell_type": "code",
   "execution_count": 10,
   "id": "c2018daa",
   "metadata": {},
   "outputs": [
    {
     "name": "stdout",
     "output_type": "stream",
     "text": [
      "--- 데이터 로드 완료 ---\n"
     ]
    }
   ],
   "source": [
    "# --- 1. 필요한 라이브러리 불러오기 ---\n",
    "import pandas as pd\n",
    "import seaborn as sns\n",
    "from sklearn.preprocessing import OneHotEncoder\n",
    "\n",
    "# --- 2. 데이터 로드 ---\n",
    "# seaborn에 내장된 타이타닉 데이터셋을 불러옵니다.\n",
    "df = sns.load_dataset('titanic')\n",
    "\n",
    "print(\"--- 데이터 로드 완료 ---\")"
   ]
  },
  {
   "cell_type": "code",
   "execution_count": 11,
   "id": "c2095625",
   "metadata": {},
   "outputs": [
    {
     "name": "stdout",
     "output_type": "stream",
     "text": [
      "\n",
      "--- 결측치 처리 완료 ---\n",
      "<class 'pandas.core.frame.DataFrame'>\n",
      "RangeIndex: 891 entries, 0 to 890\n",
      "Data columns (total 15 columns):\n",
      " #   Column       Non-Null Count  Dtype   \n",
      "---  ------       --------------  -----   \n",
      " 0   survived     891 non-null    int64   \n",
      " 1   pclass       891 non-null    int64   \n",
      " 2   sex          891 non-null    object  \n",
      " 3   age          891 non-null    float64 \n",
      " 4   sibsp        891 non-null    int64   \n",
      " 5   parch        891 non-null    int64   \n",
      " 6   fare         891 non-null    float64 \n",
      " 7   embarked     891 non-null    object  \n",
      " 8   class        891 non-null    category\n",
      " 9   who          891 non-null    object  \n",
      " 10  adult_male   891 non-null    bool    \n",
      " 11  deck         203 non-null    category\n",
      " 12  embark_town  889 non-null    object  \n",
      " 13  alive        891 non-null    object  \n",
      " 14  alone        891 non-null    bool    \n",
      "dtypes: bool(2), category(2), float64(2), int64(4), object(5)\n",
      "memory usage: 80.7+ KB\n"
     ]
    }
   ],
   "source": [
    "# --- 3. 결측치 처리 ---\n",
    "# # [이론]\n",
    "# # - 빈 값(결측치)들은 모델이 학습할 수 없으므로 채워주거나 없애야 합니다.\n",
    "\n",
    "# 'age' 컬럼의 결측치를 평균값으로 채우기\n",
    "df['age'] = df['age'].fillna(df['age'].mean())\n",
    "\n",
    "# 'embarked' 컬럼의 결측치를 최빈값으로 채우기\n",
    "df['embarked'] = df['embarked'].fillna(df['embarked'].mode()[0])\n",
    "\n",
    "print(\"\\n--- 결측치 처리 완료 ---\")\n",
    "df.info()"
   ]
  },
  {
   "cell_type": "code",
   "execution_count": 12,
   "id": "a9082fe7",
   "metadata": {},
   "outputs": [
    {
     "name": "stdout",
     "output_type": "stream",
     "text": [
      "\n",
      "--- 불필요한 컬럼 제거 완료 ---\n",
      "<class 'pandas.core.frame.DataFrame'>\n",
      "RangeIndex: 891 entries, 0 to 890\n",
      "Data columns (total 12 columns):\n",
      " #   Column      Non-Null Count  Dtype   \n",
      "---  ------      --------------  -----   \n",
      " 0   survived    891 non-null    int64   \n",
      " 1   pclass      891 non-null    int64   \n",
      " 2   sex         891 non-null    object  \n",
      " 3   age         891 non-null    float64 \n",
      " 4   sibsp       891 non-null    int64   \n",
      " 5   parch       891 non-null    int64   \n",
      " 6   fare        891 non-null    float64 \n",
      " 7   embarked    891 non-null    object  \n",
      " 8   class       891 non-null    category\n",
      " 9   who         891 non-null    object  \n",
      " 10  adult_male  891 non-null    bool    \n",
      " 11  alone       891 non-null    bool    \n",
      "dtypes: bool(2), category(1), float64(2), int64(4), object(3)\n",
      "memory usage: 65.5+ KB\n"
     ]
    }
   ],
   "source": [
    "# --- 4. 불필요한 컬럼 제거 ---\n",
    "# # [이론]\n",
    "# # - 모델 학습에 도움이 되지 않는 'deck', 'embark_town', 'alive' 등의 컬럼을 제거합니다.\n",
    "# # - seaborn 데이터셋에는 'Cabin', 'Name', 'Ticket' 컬럼 대신 'deck', 'embark_town'이 포함되어 있습니다.\n",
    "df.drop(['deck', 'embark_town', 'alive'], axis=1, inplace=True)\n",
    "\n",
    "print(\"\\n--- 불필요한 컬럼 제거 완료 ---\")\n",
    "df.info()"
   ]
  },
  {
   "cell_type": "code",
   "execution_count": 13,
   "id": "9b003976",
   "metadata": {},
   "outputs": [
    {
     "name": "stdout",
     "output_type": "stream",
     "text": [
      "\n",
      "--- 범주형 컬럼 인코딩 전 고유값 확인 ---\n",
      "\n",
      "[sex] 컬럼 고유값:\n",
      "['male' 'female']\n",
      "\n",
      "[embarked] 컬럼 고유값:\n",
      "['S' 'C' 'Q']\n",
      "\n",
      "[class] 컬럼 고유값:\n",
      "['Third', 'First', 'Second']\n",
      "Categories (3, object): ['First', 'Second', 'Third']\n",
      "\n",
      "[who] 컬럼 고유값:\n",
      "['man' 'woman' 'child']\n",
      "\n",
      "--- 범주형 데이터 인코딩 완료 ---\n",
      "<class 'pandas.core.frame.DataFrame'>\n",
      "RangeIndex: 891 entries, 0 to 890\n",
      "Data columns (total 19 columns):\n",
      " #   Column        Non-Null Count  Dtype  \n",
      "---  ------        --------------  -----  \n",
      " 0   survived      891 non-null    int64  \n",
      " 1   pclass        891 non-null    int64  \n",
      " 2   age           891 non-null    float64\n",
      " 3   sibsp         891 non-null    int64  \n",
      " 4   parch         891 non-null    int64  \n",
      " 5   fare          891 non-null    float64\n",
      " 6   adult_male    891 non-null    bool   \n",
      " 7   alone         891 non-null    bool   \n",
      " 8   sex_female    891 non-null    float64\n",
      " 9   sex_male      891 non-null    float64\n",
      " 10  embarked_C    891 non-null    float64\n",
      " 11  embarked_Q    891 non-null    float64\n",
      " 12  embarked_S    891 non-null    float64\n",
      " 13  class_First   891 non-null    float64\n",
      " 14  class_Second  891 non-null    float64\n",
      " 15  class_Third   891 non-null    float64\n",
      " 16  who_child     891 non-null    float64\n",
      " 17  who_man       891 non-null    float64\n",
      " 18  who_woman     891 non-null    float64\n",
      "dtypes: bool(2), float64(13), int64(4)\n",
      "memory usage: 120.2 KB\n"
     ]
    }
   ],
   "source": [
    "# --- 5. 범주형 데이터 인코딩 (OneHotEncoder 사용) ---\n",
    "# # [이론]\n",
    "# # - 'sex'와 'embarked' 컬럼은 문자열이어서 모델이 이해할 수 없습니다.\n",
    "# # - One-Hot Encoding은 문자열을 모델이 이해할 수 있는 숫자 형태로 바꿔줍니다.\n",
    "\n",
    "# 인코딩할 컬럼 지정\n",
    "categorical_columns = df.select_dtypes(include=['object', 'category']).columns.to_list()\n",
    "\n",
    "print(\"\\n--- 범주형 컬럼 인코딩 전 고유값 확인 ---\")\n",
    "for col in categorical_columns:\n",
    "    print(f\"\\n[{col}] 컬럼 고유값:\")\n",
    "    print(df[col].unique())\n",
    "\n",
    "# OneHotEncoder 객체 생성\n",
    "encoder = OneHotEncoder(handle_unknown='ignore', sparse_output=False)\n",
    "\n",
    "# 인코더 학습 및 변환 (fit_transform)\n",
    "encoded_cols = encoder.fit_transform(df[categorical_columns])\n",
    "encoded_df = pd.DataFrame(encoded_cols, columns=encoder.get_feature_names_out(categorical_columns))\n",
    "\n",
    "# 기존 df에서 범주형 컬럼을 제거하고, 인코딩된 컬럼을 합칩니다.\n",
    "df = df.drop(columns=categorical_columns)\n",
    "df = pd.concat([df.reset_index(drop=True), encoded_df], axis=1)\n",
    "\n",
    "print(\"\\n--- 범주형 데이터 인코딩 완료 ---\")\n",
    "df.info()"
   ]
  },
  {
   "cell_type": "code",
   "execution_count": 14,
   "id": "f796c969",
   "metadata": {},
   "outputs": [
    {
     "name": "stdout",
     "output_type": "stream",
     "text": [
      "\n",
      "--- 전처리된 데이터가 CSV 파일로 성공적으로 저장되었습니다. ---\n"
     ]
    }
   ],
   "source": [
    "# --- 6. 전처리 완료된 데이터를 CSV 파일로 저장 ---\n",
    "df.to_csv('타이타닉_전처리완료_mldl_250801.csv', index=False)\n",
    "\n",
    "print(\"\\n--- 전처리된 데이터가 CSV 파일로 성공적으로 저장되었습니다. ---\")\n",
    "\n"
   ]
  }
 ],
 "metadata": {
  "kernelspec": {
   "display_name": "mldl250801",
   "language": "python",
   "name": "python3"
  },
  "language_info": {
   "codemirror_mode": {
    "name": "ipython",
    "version": 3
   },
   "file_extension": ".py",
   "mimetype": "text/x-python",
   "name": "python",
   "nbconvert_exporter": "python",
   "pygments_lexer": "ipython3",
   "version": "3.9.23"
  }
 },
 "nbformat": 4,
 "nbformat_minor": 5
}
