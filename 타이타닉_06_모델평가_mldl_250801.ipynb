{
 "cells": [
  {
   "cell_type": "code",
   "execution_count": 11,
   "id": "17b3b893",
   "metadata": {},
   "outputs": [
    {
     "name": "stdout",
     "output_type": "stream",
     "text": [
      "--- 훈련/테스트 데이터 불러오기 완료 ---\n"
     ]
    }
   ],
   "source": [
    "# --- 1. 필요한 라이브러리 불러오기 ---\n",
    "import pandas as pd\n",
    "from sklearn.linear_model import LogisticRegression\n",
    "from sklearn.metrics import accuracy_score\n",
    "import joblib\n",
    "\n",
    "\n",
    "# --- 2. 훈련/테스트 데이터 불러오기 ---\n",
    "# 이전 단계에서 저장해 둔 CSV 파일들을 불러옵니다.\n",
    "X_train = pd.read_csv('타이타닉_X_train_mldl_250801.csv')\n",
    "y_train = pd.read_csv('타이타닉_y_train_mldl_250801.csv')\n",
    "X_test = pd.read_csv('타이타닉_X_test_mldl_250801.csv')\n",
    "y_test = pd.read_csv('타이타닉_y_test_mldl_250801.csv')\n",
    "\n",
    "# y_train과 y_test는 1차원 Series 형태로 변환해야 합니다.\n",
    "y_train = y_train['survived']\n",
    "y_test = y_test['survived']\n",
    "\n",
    "print(\"--- 훈련/테스트 데이터 불러오기 완료 ---\")"
   ]
  },
  {
   "cell_type": "code",
   "execution_count": null,
   "id": "ca61ab8f",
   "metadata": {},
   "outputs": [
    {
     "name": "stdout",
     "output_type": "stream",
     "text": [
      "\n",
      "--- 모델 학습 및 예측 완료 ---\n"
     ]
    }
   ],
   "source": [
    "# --- 3. 모델 학습 및 예측 ---\n",
    "\n",
    "# # - 모델 학습: fit() 함수에 훈련용 데이터(X_train, y_train)를 넣어 모델을 학습시킵니다.\n",
    "# # - 예측: predict() 함수에 테스트용 데이터(X_test)를 넣어 모델의 예측값을 얻습니다.\n",
    "\n",
    "# 로지스틱 회귀 모델 객체 생성\n",
    "model = LogisticRegression(random_state=42, max_iter=1000)\n",
    "\n",
    "# 모델 학습\n",
    "\n",
    "model.fit(X_train, y_train)\n",
    "\n",
    "# 테스트 데이터로 예측하기\n",
    "\n",
    "y_pred = model.predict(X_test)\n",
    "\n",
    "print(\"\\n--- 모델 학습 및 예측 완료 ---\")\n"
   ]
  },
  {
   "cell_type": "code",
   "execution_count": null,
   "id": "83121212",
   "metadata": {},
   "outputs": [
    {
     "name": "stdout",
     "output_type": "stream",
     "text": [
      "\n",
      "모델의 예측 정확도: 0.8101\n"
     ]
    }
   ],
   "source": [
    "# --- 4. 모델 성능 평가 ---\n",
    "\n",
    "# # - accuracy_score() 함수를 사용해 예측값(y_pred)과 실제 정답(y_test)을 비교하여 정확도를 계산합니다.\n",
    "\n",
    "accuracy = accuracy_score(y_test, y_pred)\n",
    "\n",
    "# 모델의 예측 정확도는 머신러닝 관점에서 모델의 성능을 평가하는 가장 기본적인 지표입니다.\n",
    "# 이것은 모델이 테스트 데이터의 예측 중 %를 정확하게 맞혔다는 뜻이에요.\n",
    "\n",
    "print(f\"\\n모델의 예측 정확도: {accuracy:.4f}\")\n"
   ]
  },
  {
   "cell_type": "code",
   "execution_count": null,
   "id": "ca084a9f",
   "metadata": {},
   "outputs": [
    {
     "name": "stdout",
     "output_type": "stream",
     "text": [
      "\n",
      "--- 학습된 모델이 'titanic_model_mldl_250801.pkl' 파일로 성공적으로 저장되었습니다. ---\n"
     ]
    }
   ],
   "source": [
    "# --- 5. 학습된 모델 저장 ---\n",
    "\n",
    "# # - joblib.dump() 함수를 사용해 학습된 모델을 파일로 저장합니다.\n",
    "# # - 모델을 저장하면 나중에 모델을 다시 학습시킬 필요 없이 바로 불러와서 사용할 수 있습니다.\n",
    "\n",
    "# .to_csv()는 사람이 읽기 쉬운 **데이터프레임(.csv)**을 저장하고, \n",
    "# joblib.dump()`는 나중에 재사용하기 위해 **파이썬 객체(모델)**를 컴퓨터가 읽기 쉬운 **바이너리(.pkl)**로 저장합니다.\n",
    "\n",
    "# 저장할 파일명\n",
    "\n",
    "model_filename = 'titanic_model_mldl_250801.pkl'\n",
    "\n",
    "# 모델 저장\n",
    "\n",
    "joblib.dump(model, model_filename)\n",
    "\n",
    "print(f\"\\n--- 학습된 모델이 '{model_filename}' 파일로 성공적으로 저장되었습니다. ---\")\n",
    "\n"
   ]
  }
 ],
 "metadata": {
  "kernelspec": {
   "display_name": "mldl250801",
   "language": "python",
   "name": "python3"
  },
  "language_info": {
   "codemirror_mode": {
    "name": "ipython",
    "version": 3
   },
   "file_extension": ".py",
   "mimetype": "text/x-python",
   "name": "python",
   "nbconvert_exporter": "python",
   "pygments_lexer": "ipython3",
   "version": "3.9.23"
  }
 },
 "nbformat": 4,
 "nbformat_minor": 5
}
