{
 "cells": [
  {
   "cell_type": "markdown",
   "id": "9a8e5f3a",
   "metadata": {},
   "source": [
    "지도 학습 (Supervised Learning)\n",
    "\n",
    "정답(타겟)이 있는 데이터를 사용하여 모델을 훈련시키는 방법입니다.\n",
    "\n",
    "모델은 문제(입력 데이터)와 정답(타겟) 사이의 관계를 배웁니다.\n",
    "\n",
    "비유: 과외 선생님이 문제(입력)와 답(타겟)을 알려주면서 학생을 가르치는 것과 같습니다.\n",
    "\n",
    "예시: 와인 데이터로 와인의 종류(class)를 예측하는 것. 와인의 종류는 이미 정해진 정답입니다.\n",
    "===\n",
    "\n",
    "비지도 학습 (Unsupervised Learning)\n",
    "\n",
    "정답(타겟)이 없는 데이터를 사용하여 모델을 훈련시키는 방법입니다.\n",
    "\n",
    "모델은 데이터 자체의 숨겨진 패턴이나 구조를 스스로 발견합니다.\n",
    "\n",
    "비유: 학생이 정답 없이 수많은 데이터를 스스로 분석하며 공통점을 찾는 것과 같습니다.\n",
    "\n",
    "예시: 수많은 고객 데이터를 분석하여 비슷한 특징을 가진 고객 그룹으로 나누는 것."
   ]
  },
  {
   "cell_type": "code",
   "execution_count": null,
   "id": "7fb06a21",
   "metadata": {
    "vscode": {
     "languageId": "plaintext"
    }
   },
   "outputs": [],
   "source": []
  }
 ],
 "metadata": {
  "language_info": {
   "name": "python"
  }
 },
 "nbformat": 4,
 "nbformat_minor": 5
}
