{
 "cells": [
  {
   "cell_type": "markdown",
   "id": "71209147",
   "metadata": {},
   "source": [
    "넘파이로 데이터 준비하기\n",
    "pandas로 데이터를 불러와도, 대부분의 머신러닝 모델은 넘파이 배열(Numpy array) 형태로 데이터를 받는 것을 선호합니다. \n",
    "따라서 데이터를 모델에 전달하기 전에 판다스 데이터프레임(DataFrame)을 넘파이 배열로 변환하는 과정이 필요합니다.\n",
    "\n",
    "이 과정은 어렵지 않습니다. 판다스에서 제공하는 .to_numpy() 메서드를 사용하면 쉽게 변환할 수 있습니다.\n",
    "\n",
    "데이터를 넘파이 배열로 바꾸면 좋은 점:\n",
    "\n",
    "모델과의 호환성: scikit-learn 같은 주요 라이브러리 모델들은 넘파이 배열에 최적화되어 있습니다.\n",
    "\n",
    "빠른 연산: 넘파이 배열은 데이터프레임보다 수치 연산 속도가 더 빠릅니다."
   ]
  },
  {
   "cell_type": "code",
   "execution_count": 1,
   "id": "0f0a0e39",
   "metadata": {},
   "outputs": [
    {
     "name": "stdout",
     "output_type": "stream",
     "text": [
      "--- 데이터프레임의 타입과 형태 확인 ---\n",
      "X의 타입: <class 'pandas.core.frame.DataFrame'>\n",
      "y의 타입: <class 'pandas.core.series.Series'>\n",
      "X의 형태: (6497, 3)\n",
      "y의 형태: (6497,)\n",
      "\n",
      "\n",
      "--- 넘파이 배열로 변환 후 타입과 형태 확인 ---\n",
      "X_numpy의 타입: <class 'numpy.ndarray'>\n",
      "y_numpy의 타입: <class 'numpy.ndarray'>\n",
      "X_numpy의 형태: (6497, 3)\n",
      "y_numpy의 형태: (6497,)\n"
     ]
    }
   ],
   "source": [
    "import pandas as pd\n",
    "import numpy as np\n",
    "\n",
    "# 와인 데이터 로드 (URL에서 직접 읽어옵니다)\n",
    "df = pd.read_csv(\"https://bit.ly/wine_csv_data\")\n",
    "\n",
    "# 데이터의 특성(X)과 타겟(y)을 분리합니다.\n",
    "X = df[['alcohol', 'sugar', 'pH']]\n",
    "y = df['class']\n",
    "\n",
    "print(\"--- 데이터프레임의 타입과 형태 확인 ---\")\n",
    "print(f\"X의 타입: {type(X)}\")\n",
    "print(f\"y의 타입: {type(y)}\")\n",
    "print(f\"X의 형태: {X.shape}\")\n",
    "print(f\"y의 형태: {y.shape}\")\n",
    "print(\"\\n\")\n",
    "\n",
    "# 판다스 데이터프레임을 넘파이 배열로 변환합니다.\n",
    "# `.to_numpy()` 메서드를 사용하면 쉽게 변환할 수 있습니다.\n",
    "X_numpy = X.to_numpy()\n",
    "y_numpy = y.to_numpy()\n",
    "\n",
    "print(\"--- 넘파이 배열로 변환 후 타입과 형태 확인 ---\")\n",
    "print(f\"X_numpy의 타입: {type(X_numpy)}\")\n",
    "print(f\"y_numpy의 타입: {type(y_numpy)}\")\n",
    "print(f\"X_numpy의 형태: {X_numpy.shape}\")\n",
    "print(f\"y_numpy의 형태: {y_numpy.shape}\")\n"
   ]
  }
 ],
 "metadata": {
  "kernelspec": {
   "display_name": "mldl_env_250804",
   "language": "python",
   "name": "python3"
  },
  "language_info": {
   "codemirror_mode": {
    "name": "ipython",
    "version": 3
   },
   "file_extension": ".py",
   "mimetype": "text/x-python",
   "name": "python",
   "nbconvert_exporter": "python",
   "pygments_lexer": "ipython3",
   "version": "3.10.18"
  }
 },
 "nbformat": 4,
 "nbformat_minor": 5
}
