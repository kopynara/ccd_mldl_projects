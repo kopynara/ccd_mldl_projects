{
 "cells": [
  {
   "cell_type": "markdown",
   "id": "8ac35c5b",
   "metadata": {},
   "source": [
    "넘파이 (NumPy)넘파이는 'Numerical Python'의 줄임말로, 파이썬에서 배열(array)을 다루는 핵심 라이브러리입니다. \n",
    "\n",
    "머신러닝에서 사용하는 대부분의 데이터(이미지, 표 등)는 넘파이 배열 형태로 표현됩니다.\n",
    "\n",
    "\n",
    "왜 넘파이를 사용할까요?\n",
    "\n",
    "\n",
    "빠른 연산 속도: 파이썬의 기본 리스트보다 수치 계산 속도가 훨씬 빠릅니다.\n",
    "\n",
    "다차원 배열: 1차원, 2차원, 3차원 등 다양한 형태의 배열을 쉽게 만들고 다룰 수 있습니다.\n",
    "\n",
    "다양한 함수: 배열을 위한 수많은 수학적 함수(평균, 합계, 분산 등)를 제공합니다.\n"
   ]
  },
  {
   "cell_type": "code",
   "execution_count": null,
   "id": "d988e87d",
   "metadata": {},
   "outputs": [
    {
     "name": "stdout",
     "output_type": "stream",
     "text": [
      "배열의 형태: (5,)\n",
      "10을 더한 배열: [11 12 13 14 15]\n"
     ]
    }
   ],
   "source": [
    "# 간단한 넘파이 실습\n",
    "import numpy as np\n",
    "\n",
    "# 파이썬 리스트를 넘파이 배열로 변환\n",
    "# np.array()는 넘파이 배열을 만드는 함수이고, \n",
    "# 그 괄호 () 안에 파이썬의 대괄호 []로 묶인 리스트를 넣어주면 넘파이 배열로 변환해줍니다.\n",
    "arr1 = np.array([1, 2, 3, 4, 5])\n",
    "\n",
    "# 배열의 형태(차원, 크기) 확인\n",
    "print(f\"배열의 형태: {arr1.shape}\")\n",
    "\n",
    "# 배열의 모든 요소에 10 더하기 (연산이 한 번에 가능)\n",
    "arr2 = arr1 + 10\n",
    "print(f\"10을 더한 배열: {arr2}\")"
   ]
  }
 ],
 "metadata": {
  "kernelspec": {
   "display_name": "mldl_env_250804",
   "language": "python",
   "name": "python3"
  },
  "language_info": {
   "codemirror_mode": {
    "name": "ipython",
    "version": 3
   },
   "file_extension": ".py",
   "mimetype": "text/x-python",
   "name": "python",
   "nbconvert_exporter": "python",
   "pygments_lexer": "ipython3",
   "version": "3.10.18"
  }
 },
 "nbformat": 4,
 "nbformat_minor": 5
}
