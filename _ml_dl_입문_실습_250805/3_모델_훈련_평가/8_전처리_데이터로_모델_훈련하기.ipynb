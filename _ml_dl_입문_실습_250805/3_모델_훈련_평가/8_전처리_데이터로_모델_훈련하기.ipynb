{
 "cells": [
  {
   "cell_type": "markdown",
   "id": "99f6a912",
   "metadata": {},
   "source": [
    "전처리 데이터로 모델 훈련하기\n",
    "\n",
    "데이터를 훈련 세트와 테스트 세트로 나누었다면, 이제 훈련 세트를 사용해 모델을 훈련시켜야 합니다. \n",
    "\n",
    "모델이 이 훈련 세트를 보고 데이터의 특징과 패턴을 배우게 됩니다.\n",
    "\n",
    "모델 훈련 순서\n",
    "모델 객체 생성: 사용할 머신러닝 알고리즘(예: 의사결정나무)을 선택해 모델 객체를 만듭니다.\n",
    "\n",
    "fit() 메서드 호출: 훈련 세트의 입력 데이터(문제)와 정답(타겟)을 fit() 메서드에 전달하여 모델을 훈련시킵니다."
   ]
  },
  {
   "cell_type": "code",
   "execution_count": 2,
   "id": "e0f7f0be",
   "metadata": {},
   "outputs": [
    {
     "name": "stdout",
     "output_type": "stream",
     "text": [
      "--- 모델 훈련 완료 ---\n"
     ]
    }
   ],
   "source": [
    "# 필요한 라이브러리를 불러옵니다.\n",
    "import pandas as pd\n",
    "from sklearn.model_selection import train_test_split\n",
    "# 의사결정나무 모델을 불러옵니다.\n",
    "from sklearn.tree import DecisionTreeClassifier\n",
    "\n",
    "# 1. 와인 데이터를 불러와 특성(X)과 타겟(y)을 분리합니다.\n",
    "df = pd.read_csv(\"https://bit.ly/wine_csv_data\")\n",
    "X = df[['alcohol', 'sugar', 'pH']]\n",
    "y = df['class']\n",
    "\n",
    "# 2. 데이터를 훈련 세트와 테스트 세트로 나눕니다.\n",
    "# stratify=y로 타겟의 비율을 맞춰줍니다.\n",
    "X_train, X_test, y_train, y_test = train_test_split(\n",
    "    X, y, test_size=0.25, random_state=42, stratify=y\n",
    ")\n",
    "\n",
    "# 3. 모델을 훈련합니다.\n",
    "# DecisionTreeClassifier 모델 객체를 만듭니다.\n",
    "dt = DecisionTreeClassifier(random_state=42)\n",
    "\n",
    "# 훈련 세트(X_train, y_train)를 사용해 모델을 훈련시킵니다.\n",
    "# 이 과정에서 모델은 데이터의 패턴을 배웁니다.\n",
    "dt.fit(X_train, y_train)\n",
    "\n",
    "# 4. 모델 훈련 완료 메시지를 출력합니다.\n",
    "print(\"--- 모델 훈련 완료 ---\")\n"
   ]
  }
 ],
 "metadata": {
  "kernelspec": {
   "display_name": "mldl_env_250804",
   "language": "python",
   "name": "python3"
  },
  "language_info": {
   "codemirror_mode": {
    "name": "ipython",
    "version": 3
   },
   "file_extension": ".py",
   "mimetype": "text/x-python",
   "name": "python",
   "nbconvert_exporter": "python",
   "pygments_lexer": "ipython3",
   "version": "3.10.18"
  }
 },
 "nbformat": 4,
 "nbformat_minor": 5
}
