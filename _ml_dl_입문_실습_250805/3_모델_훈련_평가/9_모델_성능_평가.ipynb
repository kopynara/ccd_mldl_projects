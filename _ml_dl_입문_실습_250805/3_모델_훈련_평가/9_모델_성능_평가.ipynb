{
 "cells": [
  {
   "cell_type": "markdown",
   "id": "5725e044",
   "metadata": {},
   "source": [
    "모델의 성능 평가\n",
    "\n",
    "모델을 훈련시킨 후에는 모델이 얼마나 잘 작동하는지 객관적으로 평가해야 합니다. \n",
    "\n",
    "이 과정은 모델이 아직 보지 못한 데이터(테스트 세트)에 대해 정확하게 예측하는지 확인하는 중요한 단계입니다.\n",
    "\n",
    "\n",
    "예측과 평가의 차이\n",
    "\n",
    "예측 (predict): 모델이 테스트 세트의 입력 데이터(X_test)를 보고 정답을 추측하는 행위입니다.\n",
    "\n",
    "평가 (evaluate): 모델의 예측 결과와 실제 정답(y_test)을 비교하여 점수(예: 정확도)를 매기는 행위입니다.\n",
    "\n",
    "\n",
    "가장 흔하게 사용되는 평가 지표 중 하나는 **정확도(Accuracy)**입니다. \n",
    "\n",
    "이는 전체 데이터 중 모델이 정답을 맞힌 비율을 의미합니다."
   ]
  },
  {
   "cell_type": "code",
   "execution_count": 1,
   "id": "10b51f00",
   "metadata": {},
   "outputs": [
    {
     "name": "stdout",
     "output_type": "stream",
     "text": [
      "--- 모델 성능 평가 완료 ---\n",
      "정확도: 0.8677\n"
     ]
    }
   ],
   "source": [
    "# 필요한 라이브러리를 모두 불러옵니다.\n",
    "import pandas as pd\n",
    "from sklearn.model_selection import train_test_split\n",
    "from sklearn.preprocessing import StandardScaler\n",
    "from sklearn.tree import DecisionTreeClassifier\n",
    "# 정확도를 계산하기 위한 accuracy_score 함수를 불러옵니다.\n",
    "from sklearn.metrics import accuracy_score\n",
    "\n",
    "# 1. 와인 데이터를 불러와 특성(X)과 타겟(y)을 분리합니다.\n",
    "df = pd.read_csv(\"https://bit.ly/wine_csv_data\")\n",
    "X = df[['alcohol', 'sugar', 'pH']]\n",
    "y = df['class']\n",
    "\n",
    "# 2. 데이터를 훈련 세트와 테스트 세트로 나눕니다.\n",
    "X_train, X_test, y_train, y_test = train_test_split(\n",
    "    X, y, test_size=0.25, random_state=42, stratify=y\n",
    ")\n",
    "\n",
    "# 3. 스케일링을 적용합니다.\n",
    "ss = StandardScaler()\n",
    "ss.fit(X_train)\n",
    "X_train_scaled = ss.transform(X_train)\n",
    "X_test_scaled = ss.transform(X_test)\n",
    "\n",
    "# 4. 모델을 훈련합니다.\n",
    "dt = DecisionTreeClassifier(random_state=42)\n",
    "dt.fit(X_train_scaled, y_train)\n",
    "\n",
    "# 5. 모델로 예측(predict)합니다.\n",
    "# 훈련된 모델에 스케일링된 테스트 세트(X_test_scaled)를 넣어 예측 결과를 얻습니다.\n",
    "preds = dt.predict(X_test_scaled)\n",
    "\n",
    "# 6. 모델을 평가(evaluate)합니다.\n",
    "# 예측 결과(preds)와 실제 정답(y_test)을 비교하여 정확도를 계산합니다.\n",
    "acc = accuracy_score(y_test, preds)\n",
    "\n",
    "# 7. 최종 정확도를 출력합니다.\n",
    "print(\"--- 모델 성능 평가 완료 ---\")\n",
    "print(f\"정확도: {acc:.4f}\")\n"
   ]
  }
 ],
 "metadata": {
  "kernelspec": {
   "display_name": "mldl_env_250804",
   "language": "python",
   "name": "python3"
  },
  "language_info": {
   "codemirror_mode": {
    "name": "ipython",
    "version": 3
   },
   "file_extension": ".py",
   "mimetype": "text/x-python",
   "name": "python",
   "nbconvert_exporter": "python",
   "pygments_lexer": "ipython3",
   "version": "3.10.18"
  }
 },
 "nbformat": 4,
 "nbformat_minor": 5
}
