{
 "cells": [
  {
   "cell_type": "markdown",
   "id": "debaa1d5",
   "metadata": {},
   "source": [
    "교차 검증 만들기"
   ]
  },
  {
   "cell_type": "code",
   "execution_count": null,
   "id": "9b3aa16c",
   "metadata": {},
   "outputs": [],
   "source": [
    "# import pandas as pd\n",
    "# from sklearn.preprocessing import StandardScaler\n",
    "# from sklearn.model_selection import train_test_split\n",
    "# from sklearn.tree import DecisionTreeClassifier\n",
    "# from sklearn.metrics import accuracy_score\n",
    "\n",
    "# df = pd.read_csv(\"https://bit.ly/wine_csv_data\")\n",
    "\n",
    "# X = data  =  df.iloc[:, :3]\n",
    "# y = target = df.iloc[:, 3:]\n",
    "\n",
    "# scaler = StandardScaler()\n",
    "# scaler.fit(X)\n",
    "# X = scaler.transform(X)\n",
    "\n",
    "# X_train, X_test, y_train, y_test = train_test_split(X, y, random_state=1234, stratify=y)\n"
   ]
  },
  {
   "cell_type": "code",
   "execution_count": null,
   "id": "a9b1fcc4",
   "metadata": {},
   "outputs": [
    {
     "name": "stdout",
     "output_type": "stream",
     "text": [
      "정확도: 0.8548\n"
     ]
    }
   ],
   "source": [
    "# dt = DecisionTreeClassifier(criterion='gini', min_samples_leaf=2, min_samples_split= 10 )\n",
    "# # dt = DecisionTreeClassifier(criterion='gini', max_depth=3)\n",
    "# dt.fit(X_train, y_train)\n",
    "# preds = dt.predict(X_test)\n",
    "# acc = accuracy_score(y_test, preds)\n",
    "\n",
    "# print(f\"정확도: {acc:.4f}\")"
   ]
  },
  {
   "cell_type": "code",
   "execution_count": 1,
   "id": "beeafe2d",
   "metadata": {},
   "outputs": [
    {
     "name": "stdout",
     "output_type": "stream",
     "text": [
      "{'fit_time': array([0.01077533, 0.00968122, 0.00985408, 0.00940371, 0.0100317 ,\n",
      "       0.00944233, 0.00941539, 0.00911307, 0.00955272, 0.00942659]), 'score_time': array([0.00325608, 0.00325084, 0.00287819, 0.00322986, 0.00309539,\n",
      "       0.00298786, 0.00273585, 0.00293183, 0.00287533, 0.00300384]), 'test_score': array([0.87384615, 0.84461538, 0.83692308, 0.84153846, 0.86769231,\n",
      "       0.87692308, 0.86153846, 0.85053929, 0.86440678, 0.8459168 ])}\n",
      "교차 검증 정확도: 0.8564\n",
      "교차 검증 정확도 표준편차: 0.0135\n"
     ]
    }
   ],
   "source": [
    "import pandas as pd\n",
    "from sklearn.preprocessing import StandardScaler\n",
    "from sklearn.model_selection import StratifiedKFold, cross_validate\n",
    "from sklearn.tree import DecisionTreeClassifier\n",
    "\n",
    "# 데이터 로드\n",
    "df = pd.read_csv(\"https://bit.ly/wine_csv_data\")\n",
    "\n",
    "X = data  =  df.iloc[:, :3]\n",
    "y = target = df.iloc[:, 3:]\n",
    "\n",
    "# 데이터 스케일링\n",
    "scaler = StandardScaler()\n",
    "X = scaler.fit_transform(X)\n",
    "\n",
    "# 모델 정의 (기존과 동일)\n",
    "dt = DecisionTreeClassifier(criterion='gini', min_samples_leaf=2, min_samples_split= 10 )\n",
    "# dt = DecisionTreeClassifier(criterion='gini', max_depth=3)\n",
    "\n",
    "# StratifiedKFold를 사용하여 교차 검증 객체 생성\n",
    "# n_splits=10으로 설정하여 10개의 폴드로 나눕니다.\n",
    "# shuffle=True, random_state=1234로 데이터를 섞어줍니다.\n",
    "splitter = StratifiedKFold(n_splits=10, shuffle=True, random_state=1234)\n",
    "\n",
    "# cross_validate 함수로 교차 검증 수행\n",
    "cv_results = cross_validate(dt, X, y, cv=splitter)\n",
    "\n",
    "# 교차 검증 결과 확인\n",
    "# cv_results는 딕셔너리 형태로, 'test_score'에 각 폴드의 정확도가 담겨있습니다.\n",
    "print(cv_results)\n",
    "\n",
    "# 10개 폴드의 평균 정확도와 표준편차를 출력하여 최종 성능을 확인합니다.\n",
    "print(f\"교차 검증 정확도: {cv_results['test_score'].mean():.4f}\")\n",
    "print(f\"교차 검증 정확도 표준편차: {cv_results['test_score'].std():.4f}\")"
   ]
  }
 ],
 "metadata": {
  "kernelspec": {
   "display_name": "mldl_env_250804",
   "language": "python",
   "name": "python3"
  },
  "language_info": {
   "codemirror_mode": {
    "name": "ipython",
    "version": 3
   },
   "file_extension": ".py",
   "mimetype": "text/x-python",
   "name": "python",
   "nbconvert_exporter": "python",
   "pygments_lexer": "ipython3",
   "version": "3.10.18"
  }
 },
 "nbformat": 4,
 "nbformat_minor": 5
}
