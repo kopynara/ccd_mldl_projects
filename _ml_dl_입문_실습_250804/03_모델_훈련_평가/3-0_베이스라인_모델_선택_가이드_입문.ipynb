{
 "cells": [
  {
   "cell_type": "markdown",
   "id": "a7369cf1",
   "metadata": {},
   "source": [
    "# -------------------------------------------------------------\n",
    "# 📌 [폴더별 용도 안내]\n",
    "# 이 파일은 \"모델 훈련/평가\" 단계에서 바로 확인할 수 있도록\n",
    "# 03_모델_훈련_평가 폴더에 저장된 버전입니다.\n",
    "# \n",
    "# ✅ 사용하면 좋은 경우:\n",
    "#   - 머신러닝 입문자가 처음 훈련/평가를 배우는 시점\n",
    "#   - Ridge, Lasso, LogisticRegression, DecisionTree 등을\n",
    "#     첫 번째 평가 모델로 바로 써보고 싶은 경우\n",
    "#   - 빠르게 성능 체크 → 이후 복잡한 모델로 확장할 때\n",
    "# -------------------------------------------------------------\n"
   ]
  },
  {
   "cell_type": "markdown",
   "id": "66c9cdc6",
   "metadata": {},
   "source": [
    "| 문제 유형     | 베이스라인 모델               | 특징               |\n",
    "| --------- | ---------------------- | ---------------- |\n",
    "| 📈 **회귀** | 📝 Linear Regression   | 가장 단순한 회귀, 기준점   |\n",
    "|           | 🛡 Ridge Regression    | L2 정규화로 과적합 방지   |\n",
    "|           | ✂ Lasso Regression     | L1 정규화, 특성 선택    |\n",
    "|           | ⚖ ElasticNet           | L1+L2 절충형        |\n",
    "| 🧩 **분류** | 🎯 Logistic Regression | 빠르고 단순, 다중 분류 가능 |\n",
    "|           | 🌳 Decision Tree       | 직관적, 해석 쉬움       |\n",
    "|           | 👥 KNN                 | 간단, 패턴 파악 용이     |\n",
    "|           | 📬 Naive Bayes         | 확률 기반, 속도 빠름     |\n"
   ]
  },
  {
   "cell_type": "markdown",
   "id": "6d72da72",
   "metadata": {},
   "source": []
  }
 ],
 "metadata": {
  "language_info": {
   "name": "python"
  }
 },
 "nbformat": 4,
 "nbformat_minor": 5
}
