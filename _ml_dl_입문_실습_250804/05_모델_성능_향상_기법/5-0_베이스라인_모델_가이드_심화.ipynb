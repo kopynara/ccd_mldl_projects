{
 "cells": [
  {
   "cell_type": "markdown",
   "id": "0a02f6ec",
   "metadata": {},
   "source": [
    "# -------------------------------------------------------------\n",
    "# 📌 [폴더별 용도 안내]\n",
    "# 이 파일은 \"모델 성능 향상\" 단계에서 참고할 수 있도록\n",
    "# 05_모델_성능_향상_기법 폴더에 저장된 버전입니다.\n",
    "#\n",
    "# ✅ 사용하면 좋은 경우:\n",
    "#   - 이미 모델 훈련/평가를 한 번 해본 상태\n",
    "#   - 성능 향상 워크플로우의 첫 단계로 베이스라인을 설정할 때\n",
    "#   - GridSearchCV, 하이퍼파라미터 튜닝, 파이프라인 최적화와\n",
    "#     연결해서 비교 실험을 진행하려는 경우\n",
    "# -------------------------------------------------------------\n"
   ]
  },
  {
   "cell_type": "markdown",
   "id": "636f9576",
   "metadata": {},
   "source": [
    "| 문제 유형     | 베이스라인 모델               | 특징               |\n",
    "| --------- | ---------------------- | ---------------- |\n",
    "| 📈 **회귀** | 📝 Linear Regression   | 가장 단순한 회귀, 기준점   |\n",
    "|           | 🛡 Ridge Regression    | L2 정규화로 과적합 방지   |\n",
    "|           | ✂ Lasso Regression     | L1 정규화, 특성 선택    |\n",
    "|           | ⚖ ElasticNet           | L1+L2 절충형        |\n",
    "| 🧩 **분류** | 🎯 Logistic Regression | 빠르고 단순, 다중 분류 가능 |\n",
    "|           | 🌳 Decision Tree       | 직관적, 해석 쉬움       |\n",
    "|           | 👥 KNN                 | 간단, 패턴 파악 용이     |\n",
    "|           | 📬 Naive Bayes         | 확률 기반, 속도 빠름     |\n"
   ]
  },
  {
   "cell_type": "markdown",
   "id": "0b3e3aa7",
   "metadata": {},
   "source": []
  }
 ],
 "metadata": {
  "language_info": {
   "name": "python"
  }
 },
 "nbformat": 4,
 "nbformat_minor": 5
}
