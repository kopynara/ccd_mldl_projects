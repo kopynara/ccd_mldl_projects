{
 "cells": [
  {
   "cell_type": "markdown",
   "id": "6ad7bca9",
   "metadata": {},
   "source": [
    "mkdir -p \"_ml_dl_입문_실습_250804/06_비지도_학습/00_로드맵\"\n",
    "cat > \"_ml_dl_입문_실습_250804/06_비지도_학습/00_로드맵/6-0_비지도_학습_로드맵.md\" << 'MD'\n",
    "# 🧭 비지도 학습 로드맵 (2025)\n",
    "\n",
    "## 왜/언제 쓰나?\n",
    "- 라벨 없이 패턴/세그먼트를 찾고 싶을 때 (고객군, 제품군, 이상치 등)\n",
    "\n",
    "## 핵심 알고리즘\n",
    "- 📏 KMeans(거리) · 📌 DBSCAN(밀도) · 🎯 GMM(확률) · 🌳 계층적 군집(트리)\n",
    "\n",
    "## 전처리 체크리스트\n",
    "- 🧹 결측치 → 평균/중앙/최빈\n",
    "- 🔧 스케일 → StandardScaler/MinMax\n",
    "- 🔡 인코딩 → One-Hot (문자 → 숫자)\n",
    "- ✂ 차원축소 → PCA/UMAP (시각화/안정화)\n",
    "- 🚨 이상치 → IQR/IsolationForest 또는 DBSCAN으로 흡수\n",
    "\n",
    "## 평가/튜닝\n",
    "- 지표: **Silhouette↑**, **CH↑**, **DB↓**\n",
    "- 튜닝: **K**(KMeans), **eps/min_samples**(DBSCAN), **n_components/covariance_type**(GMM)\n",
    "- 방법: 수동 루프/커스텀 스코어\n",
    "\n",
    "## 추천 워크플로우\n",
    "1) 데이터 점검(결측/이상치)  \n",
    "2) 스케일/인코딩  \n",
    "3) (선택) PCA 2D/3D로 감 잡기  \n",
    "4) KMeans/DBSCAN/GMM 중 하나 시도  \n",
    "5) 내부 지표 + 도메인 해석으로 선택  \n",
    "6) 레이블을 다운스트림 모델 입력으로 활용(세그먼트 특성 분석)\n",
    "MD\n"
   ]
  },
  {
   "cell_type": "markdown",
   "id": "213d65fd",
   "metadata": {},
   "source": []
  }
 ],
 "metadata": {
  "language_info": {
   "name": "python"
  }
 },
 "nbformat": 4,
 "nbformat_minor": 5
}
