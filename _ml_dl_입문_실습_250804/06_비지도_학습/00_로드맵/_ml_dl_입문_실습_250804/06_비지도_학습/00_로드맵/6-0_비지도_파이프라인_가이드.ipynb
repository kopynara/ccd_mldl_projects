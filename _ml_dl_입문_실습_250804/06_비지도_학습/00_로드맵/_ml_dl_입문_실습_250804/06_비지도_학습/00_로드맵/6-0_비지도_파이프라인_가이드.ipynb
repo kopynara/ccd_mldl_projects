{
 "cells": [
  {
   "cell_type": "markdown",
   "id": "13b99015",
   "metadata": {},
   "source": [
    "# 🔗 비지도 학습 파이프라인 가이드\n",
    "- **목표**: 결측/스케일/인코딩 → (선택)차원축소 → **군집** → 내부지표 평가까지 한 번에\n",
    "- **포인트**: 지도와 같은 `Pipeline`을 쓰되, **평가는 Silhouette 등 내부지표**로!\n"
   ]
  },
  {
   "cell_type": "code",
   "execution_count": null,
   "id": "21c807df",
   "metadata": {},
   "outputs": [],
   "source": [
    "# 폰트(선택): 한글 그래프용\n",
    "import matplotlib.pyplot as plt, platform\n",
    "if platform.system() == 'Linux':\n",
    "    plt.rcParams['font.family'] = 'NanumGothic'\n",
    "elif platform.system() == 'Darwin':\n",
    "    plt.rcParams['font.family'] = 'AppleGothic'\n",
    "else:\n",
    "    plt.rcParams['font.family'] = 'Malgun Gothic'\n",
    "plt.rcParams['axes.unicode_minus'] = False"
   ]
  },
  {
   "cell_type": "code",
   "execution_count": null,
   "id": "e7c77ce0",
   "metadata": {},
   "outputs": [],
   "source": [
    "# 라이브러리\n",
    "import numpy as np, pandas as pd, seaborn as sns\n",
    "from sklearn.datasets import load_iris\n",
    "from sklearn.impute import SimpleImputer\n",
    "from sklearn.preprocessing import StandardScaler, OneHotEncoder, Normalizer\n",
    "from sklearn.decomposition import PCA\n",
    "from sklearn.cluster import KMeans, DBSCAN\n",
    "from sklearn.pipeline import Pipeline\n",
    "from sklearn.metrics import silhouette_score\n",
    "from sklearn.compose import ColumnTransformer\n",
    "import matplotlib.pyplot as plt\n",
    "\n",
    "# 데이터: iris (수치형만 있음)\n",
    "iris = load_iris()\n",
    "X = pd.DataFrame(iris.data, columns=iris.feature_names)\n",
    "X.head()"
   ]
  },
  {
   "cell_type": "markdown",
   "id": "0a2c8553",
   "metadata": {},
   "source": [
    "## 🧱 1) 기본 파이프라인 (결측 → 스케일 → KMeans)\n",
    "- 비지도도 **같은 Pipeline** 사용\n",
    "- 내부지표로 silhouette 계산"
   ]
  },
  {
   "cell_type": "code",
   "execution_count": null,
   "id": "145d96e6",
   "metadata": {},
   "outputs": [],
   "source": [
    "# 결측치 대응(데모용, iris는 결측 거의 없음)\n",
    "imputer = SimpleImputer(strategy='median')\n",
    "scaler = StandardScaler()\n",
    "\n",
    "pipe_kmeans = Pipeline([\n",
    "    (\"impute\", imputer),\n",
    "    (\"scale\", scaler),\n",
    "    (\"cluster\", KMeans(n_clusters=3, n_init=10, random_state=42))\n",
    "])\n",
    "\n",
    "labels = pipe_kmeans.fit_predict(X)  # 비지도는 fit_predict가 편함\n",
    "sil = silhouette_score(X=StandardScaler().fit_transform(X), labels=labels)\n",
    "print(f\"Silhouette (k=3): {sil:.3f}\")"
   ]
  },
  {
   "cell_type": "markdown",
   "id": "5a15a086",
   "metadata": {},
   "source": [
    "## 🎯 2) k 탐색 (수동 루프) — Silhouette 최대화"
   ]
  },
  {
   "cell_type": "code",
   "execution_count": null,
   "id": "f7c92d6b",
   "metadata": {},
   "outputs": [],
   "source": [
    "Ks = range(2,11)\n",
    "scores = []\n",
    "for k in Ks:\n",
    "    pipe = Pipeline([\n",
    "        (\"impute\", SimpleImputer(strategy='median')),\n",
    "        (\"scale\", StandardScaler()),\n",
    "        (\"cluster\", KMeans(n_clusters=k, n_init=10, random_state=42))\n",
    "    ])\n",
    "    lab = pipe.fit_predict(X)\n",
    "    # 같은 스케일 기준으로 실루엣 계산\n",
    "    sil = silhouette_score(StandardScaler().fit_transform(X), lab)\n",
    "    scores.append(sil)\n",
    "\n",
    "plt.figure(figsize=(6,4))\n",
    "plt.plot(list(Ks), scores, marker='o')\n",
    "plt.title(\"Silhouette vs k (KMeans)\")\n",
    "plt.xlabel(\"k\"); plt.ylabel(\"silhouette\")\n",
    "plt.grid(True, linestyle='--', alpha=0.4)\n",
    "plt.show()\n",
    "\n",
    "best_k = list(Ks)[int(np.argmax(scores))]\n",
    "print(\"Best k by silhouette:\", best_k)"
   ]
  },
  {
   "cell_type": "markdown",
   "id": "a29ccb56",
   "metadata": {},
   "source": [
    "## 🧭 3) (선택) PCA 포함 파이프라인\n",
    "- 고차원/노이즈가 있으면 **PCA로 안정화** 가능\n",
    "- 시각화(2D)도 용이"
   ]
  },
  {
   "cell_type": "code",
   "execution_count": null,
   "id": "94095ea6",
   "metadata": {},
   "outputs": [],
   "source": [
    "pipe_kmeans_pca = Pipeline([\n",
    "    (\"impute\", SimpleImputer(strategy='median')),\n",
    "    (\"scale\", StandardScaler()),\n",
    "    (\"pca\", PCA(n_components=2, random_state=42)),\n",
    "    (\"cluster\", KMeans(n_clusters=3, n_init=10, random_state=42))\n",
    "])\n",
    "\n",
    "lab_pca = pipe_kmeans_pca.fit_predict(X)\n",
    "Xp = pipe_kmeans_pca.named_steps[\"pca\"].transform(\n",
    "    StandardScaler().fit_transform(SimpleImputer(strategy='median').fit_transform(X))\n",
    ")\n",
    "\n",
    "plt.figure(figsize=(6,5))\n",
    "plt.scatter(Xp[:,0], Xp[:,1], c=lab_pca, cmap='viridis', s=50, alpha=0.8, edgecolor='k')\n",
    "plt.title(\"KMeans + PCA (Iris, 2D)\")\n",
    "plt.xlabel(\"PC1\"); plt.ylabel(\"PC2\")\n",
    "plt.grid(True, linestyle='--', alpha=0.3)\n",
    "plt.show()"
   ]
  },
  {
   "cell_type": "markdown",
   "id": "aa2866db",
   "metadata": {},
   "source": [
    "## 📌 4) DBSCAN 파이프라인 + eps 탐색 힌트\n",
    "- 밀도 기반: **eps/min_samples** 중요\n",
    "- 스케일에 민감 → **스케일링 필수**\n",
    "- 내부지표는 노이즈(-1) 있을 때 주의해서 해석"
   ]
  },
  {
   "cell_type": "code",
   "execution_count": null,
   "id": "ffc17946",
   "metadata": {},
   "outputs": [],
   "source": [
    "def run_dbscan(eps=0.6, min_samples=5):\n",
    "    pipe_db = Pipeline([\n",
    "        (\"impute\", SimpleImputer(strategy='median')),\n",
    "        (\"scale\", StandardScaler()),\n",
    "        (\"cluster\", DBSCAN(eps=eps, min_samples=min_samples))\n",
    "    ])\n",
    "    labels = pipe_db.fit_predict(X)  # -1은 노이즈\n",
    "    # 모든 점이 -1이면 silhouette 계산 불가 → 예외 처리\n",
    "    if len(set(labels))<=1 or (set(labels)=={-1}):\n",
    "        print(f\"DBSCAN eps={eps}: all noise → skip silhouette\")\n",
    "        return labels, None\n",
    "    sil = silhouette_score(StandardScaler().fit_transform(X), labels)\n",
    "    print(f\"DBSCAN eps={eps} silhouette: {sil:.3f} (clusters={len(set(labels))- (1 if -1 in labels else 0)})\")\n",
    "    return labels, sil\n",
    "\n",
    "labels_db, sil_db = run_dbscan(eps=0.6, min_samples=5)"
   ]
  },
  {
   "cell_type": "markdown",
   "id": "d5797e2d",
   "metadata": {},
   "source": [
    "## 👀 5) 정리\n",
    "- 비지도도 **Pipeline** 그대로 쓴다 ✅  \n",
    "- 차이는 **평가/튜닝 방식**: 내부지표(Silhouette 등)와 수동/커스텀 탐색  \n",
    "- 데이터 특성에 맞춘 전처리(스케일/차원축소/이상치)가 성공의 핵심"
   ]
  }
 ],
 "metadata": {},
 "nbformat": 4,
 "nbformat_minor": 5
}
