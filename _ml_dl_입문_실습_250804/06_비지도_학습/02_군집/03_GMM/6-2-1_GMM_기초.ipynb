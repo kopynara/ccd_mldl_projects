{
 "cells": [
  {
   "cell_type": "code",
   "execution_count": null,
   "id": "9d512e1e",
   "metadata": {
    "vscode": {
     "languageId": "plaintext"
    }
   },
   "outputs": [],
   "source": [
    "# 🎯 GMM 기초\n",
    "- 데이터가 여러 개의 **가우시안(정규) 분포 혼합**이라고 가정\n",
    "- 각 점이 군집에 속할 **확률(soft assignment)** 계산\n",
    "- 장점: KMeans보다 유연(타원형 군집), 확률적 해석 가능\n",
    "- 단점: 분포 가정이 틀리면 성능 저하, K/공분산 형태 선택 필요\n"
   ]
  },
  {
   "cell_type": "markdown",
   "id": "53b1dc57",
   "metadata": {},
   "source": [
    "from sklearn.datasets import load_iris\n",
    "from sklearn.preprocessing import StandardScaler\n",
    "from sklearn.mixture import GaussianMixture\n",
    "from sklearn.decomposition import PCA\n",
    "import matplotlib.pyplot as plt\n",
    "import numpy as np\n",
    "\n",
    "X = load_iris().data\n",
    "Xs = StandardScaler().fit_transform(X)\n",
    "\n",
    "gmm = GaussianMixture(n_components=3, covariance_type='full', random_state=42)\n",
    "labels = gmm.fit_predict(Xs)\n",
    "proba = gmm.predict_proba(Xs)  # 각 군집 소속 확률\n",
    "\n",
    "Xp = PCA(n_components=2, random_state=42).fit_transform(Xs)\n",
    "plt.figure(figsize=(7,5))\n",
    "plt.scatter(Xp[:,0], Xp[:,1], c=labels, cmap='tab10', s=60, alpha=0.8, edgecolor='k')\n",
    "plt.title(\"GMM on Iris (PCA 2D)\")\n",
    "plt.show()\n",
    "\n",
    "print(\"첫 5개 샘플의 군집 확률:\\n\", np.round(proba[:5], 3))\n"
   ]
  }
 ],
 "metadata": {
  "language_info": {
   "name": "python"
  }
 },
 "nbformat": 4,
 "nbformat_minor": 5
}
