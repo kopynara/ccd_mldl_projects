{
 "cells": [
  {
   "cell_type": "markdown",
   "id": "9702c28d",
   "metadata": {},
   "source": [
    "# 🌳 계층적 군집\n",
    "- **바텀업(병합)**: 작은 클러스터부터 결합 → 트리(덴드로그램) 생성\n",
    "- 장점: K 미리 몰라도 트리로 컷라인 정해 군집 수 선택 가능\n",
    "- 단점: 대규모 데이터에 비싸고, 한번 병합/분할 결정을 되돌리기 어려움\n"
   ]
  },
  {
   "cell_type": "code",
   "execution_count": null,
   "id": "49690a7a",
   "metadata": {
    "vscode": {
     "languageId": "plaintext"
    }
   },
   "outputs": [],
   "source": [
    "from sklearn.datasets import load_iris\n",
    "from sklearn.preprocessing import StandardScaler\n",
    "from scipy.cluster.hierarchy import linkage, dendrogram\n",
    "import matplotlib.pyplot as plt\n",
    "\n",
    "X = load_iris().data\n",
    "Xs = StandardScaler().fit_transform(X)\n",
    "\n",
    "Z = linkage(Xs, method='ward')  # ward, average, complete 등\n",
    "plt.figure(figsize=(10,4))\n",
    "dendrogram(Z, truncate_mode='level', p=5)  # 트리 상위 레벨만\n",
    "plt.title(\"Hierarchical Clustering (Dendrogram)\")\n",
    "plt.xlabel(\"samples\"); plt.ylabel(\"distance\")\n",
    "plt.show()\n"
   ]
  }
 ],
 "metadata": {
  "language_info": {
   "name": "python"
  }
 },
 "nbformat": 4,
 "nbformat_minor": 5
}
