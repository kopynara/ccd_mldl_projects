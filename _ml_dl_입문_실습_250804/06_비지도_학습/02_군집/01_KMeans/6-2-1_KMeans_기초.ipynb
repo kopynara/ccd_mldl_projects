{
 "cells": [
  {
   "cell_type": "markdown",
   "id": "8ea4f162",
   "metadata": {},
   "source": [
    "# 📏 K-Means 기초\n",
    "- **거리 기반** 군집: 각 점을 가장 가까운 중심(Centroid)에 할당 → 중심 재계산 반복\n",
    "- **숫자형 특성** + **스케일링** 중요\n",
    "- 장점: 빠름/간단, 대규모 데이터 OK\n",
    "- 단점: K를 미리 정해야 함, 둥근 군집에 유리, 이상치 민감\n"
   ]
  },
  {
   "cell_type": "code",
   "execution_count": null,
   "id": "1e592af3",
   "metadata": {},
   "outputs": [],
   "source": [
    "from sklearn.datasets import load_iris\n",
    "from sklearn.preprocessing import StandardScaler\n",
    "from sklearn.cluster import KMeans\n",
    "from sklearn.decomposition import PCA\n",
    "import matplotlib.pyplot as plt\n",
    "\n",
    "iris = load_iris()\n",
    "X = iris.data\n",
    "\n",
    "sc = StandardScaler().fit(X)\n",
    "Xs = sc.transform(X)\n",
    "\n",
    "kmeans = KMeans(n_clusters=3, random_state=42, n_init=10)\n",
    "labels = kmeans.fit_predict(Xs)\n",
    "\n",
    "# 2D 시각화 (PCA)\n",
    "Xp = PCA(n_components=2, random_state=42).fit_transform(Xs)\n",
    "plt.scatter(Xp[:,0], Xp[:,1], c=labels, cmap='viridis', s=50, alpha=0.7, edgecolor='k')\n",
    "plt.title(\"K-Means on Iris (PCA 2D)\")\n",
    "plt.show()\n"
   ]
  }
 ],
 "metadata": {
  "kernelspec": {
   "display_name": "mldl_env_250804",
   "language": "python",
   "name": "python3"
  },
  "language_info": {
   "name": "python",
   "version": "3.10.18"
  }
 },
 "nbformat": 4,
 "nbformat_minor": 5
}
