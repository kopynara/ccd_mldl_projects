{
 "cells": [
  {
   "cell_type": "markdown",
   "id": "70b86c1b",
   "metadata": {},
   "source": [
    "# 📌 DBSCAN 기초\n",
    "- **밀도 기반**: 이웃이 많이 모인 구역=군집, 흩어진 점=노이즈(-1)\n",
    "- 장점: K 불필요, 비구형 군집/이상치 처리에 강함\n",
    "- 핵심 매개변수: `eps`(반경), `min_samples`(최소 이웃 수)\n",
    "- 단점: eps/min_samples 튜닝 어려움, 밀도 불균형 데이터에서 민감\n"
   ]
  },
  {
   "cell_type": "code",
   "execution_count": null,
   "id": "99dcb4ab",
   "metadata": {
    "vscode": {
     "languageId": "plaintext"
    }
   },
   "outputs": [],
   "source": [
    "from sklearn.datasets import load_iris\n",
    "from sklearn.preprocessing import StandardScaler\n",
    "from sklearn.cluster import DBSCAN\n",
    "from sklearn.decomposition import PCA\n",
    "import matplotlib.pyplot as plt\n",
    "import numpy as np\n",
    "\n",
    "X = load_iris().data\n",
    "Xs = StandardScaler().fit_transform(X)\n",
    "\n",
    "db = DBSCAN(eps=0.6, min_samples=5).fit(Xs)\n",
    "labels = db.labels_  # -1은 노이즈\n",
    "\n",
    "Xp = PCA(n_components=2, random_state=42).fit_transform(Xs)\n",
    "uniq = np.unique(labels)\n",
    "\n",
    "plt.figure(figsize=(7,5))\n",
    "for lab in uniq:\n",
    "    mask = labels==lab\n",
    "    plt.scatter(Xp[mask,0], Xp[mask,1], s=50, alpha=0.7, edgecolor='k',\n",
    "                label=(\"noise\" if lab==-1 else f\"cluster {lab}\"))\n",
    "plt.title(\"DBSCAN on Iris (PCA 2D)\")\n",
    "plt.legend(); plt.show()\n"
   ]
  }
 ],
 "metadata": {
  "language_info": {
   "name": "python"
  }
 },
 "nbformat": 4,
 "nbformat_minor": 5
}
