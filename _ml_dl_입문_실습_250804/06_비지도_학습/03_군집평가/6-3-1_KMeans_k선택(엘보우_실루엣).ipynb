{
 "cells": [
  {
   "cell_type": "code",
   "execution_count": null,
   "id": "eab7b9b8",
   "metadata": {},
   "outputs": [],
   "source": [
    "from sklearn.datasets import load_iris\n",
    "from sklearn.preprocessing import StandardScaler\n",
    "from sklearn.cluster import KMeans\n",
    "from sklearn.metrics import silhouette_score\n",
    "import matplotlib.pyplot as plt\n",
    "\n",
    "X = load_iris().data\n",
    "Xs = StandardScaler().fit_transform(X)\n",
    "\n",
    "ks = range(2,11)\n",
    "sse, sil = [], []\n",
    "for k in ks:\n",
    "    km = KMeans(n_clusters=k, random_state=42, n_init=10).fit(Xs)\n",
    "    sse.append(km.inertia_)\n",
    "    sil.append(silhouette_score(Xs, km.labels_))\n",
    "\n",
    "plt.figure(figsize=(10,4))\n",
    "plt.subplot(1,2,1); plt.plot(ks, sse, marker='o'); plt.title(\"Elbow (SSE)\"); plt.xlabel(\"k\"); plt.ylabel(\"SSE\")\n",
    "plt.subplot(1,2,2); plt.plot(ks, sil, marker='o', color='green'); plt.title(\"Silhouette\"); plt.xlabel(\"k\"); plt.ylabel(\"score\")\n",
    "plt.tight_layout(); plt.show()\n"
   ]
  }
 ],
 "metadata": {
  "language_info": {
   "name": "python"
  }
 },
 "nbformat": 4,
 "nbformat_minor": 5
}
