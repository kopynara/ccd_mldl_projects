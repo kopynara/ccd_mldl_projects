{
 "cells": [
  {
   "cell_type": "markdown",
   "id": "71eaeca3",
   "metadata": {},
   "source": [
    "\n",
    "### 머신러닝 핵심 워크플로우 (ft. Scikit-learn)\n",
    "\n",
    "- **`Pipeline`**: 여러 단계를 하나의 객체로 묶는 **요리 레시피**. 데이터 전처리(스케일링)와 모델을 연결하여 코드를 간결하게 만듭니다.\n",
    "- **`GridSearchCV`**: 최고의 레시피 조합을 찾는 **요리 경연 대회**. 다양한 하이퍼파라미터 조합 중 가장 성능이 좋은 것을 찾아줍니다.\n",
    "- **`cross_validate`**: 모델의 성능을 객관적으로 평가하는 **공정한 검증 도구**. 단일 모델의 안정적인 성능을 확인하는 데 사용됩니다.\n",
    "\n",
    "**현업에서의 활용 순서**\n",
    "1.  **`Pipeline`**으로 전처리 + 모델 단계를 묶어 **최적의 레시피**를 만듭니다.\n",
    "2.  **`GridSearchCV`**를 사용해 최적의 하이퍼파라미터를 찾습니다.\n",
    "3.  **`cross_validate`**로 최종 선택된 모델의 성능을 한 번 더 확인하여 신뢰도를 높입니다."
   ]
  },
  {
   "cell_type": "code",
   "execution_count": 3,
   "id": "8c40d727",
   "metadata": {},
   "outputs": [
    {
     "ename": "NameError",
     "evalue": "name 'pd' is not defined",
     "output_type": "error",
     "traceback": [
      "\u001b[0;31m---------------------------------------------------------------------------\u001b[0m",
      "\u001b[0;31mNameError\u001b[0m                                 Traceback (most recent call last)",
      "Cell \u001b[0;32mIn[3], line 1\u001b[0m\n\u001b[0;32m----> 1\u001b[0m df \u001b[38;5;241m=\u001b[39m \u001b[43mpd\u001b[49m\u001b[38;5;241m.\u001b[39mread_csv(\u001b[38;5;124m\"\u001b[39m\u001b[38;5;124mhttps://bit.ly/wine_csv_data\u001b[39m\u001b[38;5;124m\"\u001b[39m)\n\u001b[1;32m      3\u001b[0m X \u001b[38;5;241m=\u001b[39m data  \u001b[38;5;241m=\u001b[39m  df\u001b[38;5;241m.\u001b[39miloc[:, :\u001b[38;5;241m3\u001b[39m]\n\u001b[1;32m      4\u001b[0m y \u001b[38;5;241m=\u001b[39m target \u001b[38;5;241m=\u001b[39m df\u001b[38;5;241m.\u001b[39miloc[:, \u001b[38;5;241m3\u001b[39m:]\n",
      "\u001b[0;31mNameError\u001b[0m: name 'pd' is not defined"
     ]
    }
   ],
   "source": [
    "\n",
    "df = pd.read_csv(\"https://bit.ly/wine_csv_data\")\n",
    "\n",
    "X = data  =  df.iloc[:, :3]\n",
    "y = target = df.iloc[:, 3:]\n",
    "\n",
    "scaler = StandardScaler()\n",
    "scaler.fit\n",
    "(X)\n",
    "X = scaler.transform(X)\n",
    "\n",
    "X_train, X_test, y_train, y_test = train_test_split(X, y, random_state=1234, stratify=y)\n",
    "\n",
    "# dt = DecisionTreeClassifier(criterion='gini', min_samples_leaf=2, min_samples_split= 10 )\n",
    "dt = DecisionTreeClassifier(criterion='gini', max_depth=3)\n",
    "dt.fit\n",
    "(X_train, y_train)\n",
    "preds = dt.predict(X_test)\n",
    "acc = accuracy_score(y_test, preds)\n",
    "print(acc) \n",
    "\n"
   ]
  }
 ],
 "metadata": {
  "kernelspec": {
   "display_name": "mldl_env_250804",
   "language": "python",
   "name": "python3"
  },
  "language_info": {
   "codemirror_mode": {
    "name": "ipython",
    "version": 3
   },
   "file_extension": ".py",
   "mimetype": "text/x-python",
   "name": "python",
   "nbconvert_exporter": "python",
   "pygments_lexer": "ipython3",
   "version": "3.10.18"
  }
 },
 "nbformat": 4,
 "nbformat_minor": 5
}
