{
 "cells": [
  {
   "cell_type": "code",
   "execution_count": 2,
   "id": "9932a269",
   "metadata": {},
   "outputs": [
    {
     "name": "stdout",
     "output_type": "stream",
     "text": [
      "--- 전처리된 데이터가 성공적으로 불러와졌습니다. ---\n",
      "   survived  pclass  sex   age  sibsp  parch     fare  embarked  class    who  \\\n",
      "0         0       3    0  22.0      1      0   7.2500         0  Third    man   \n",
      "1         1       1    1  38.0      1      0  71.2833         1  First  woman   \n",
      "2         1       3    1  26.0      0      0   7.9250         0  Third  woman   \n",
      "3         1       1    1  35.0      1      0  53.1000         0  First  woman   \n",
      "4         0       3    0  35.0      0      0   8.0500         0  Third    man   \n",
      "\n",
      "   adult_male deck  embark_town alive  alone  \n",
      "0        True  NaN  Southampton    no  False  \n",
      "1       False    C    Cherbourg   yes  False  \n",
      "2       False  NaN  Southampton   yes   True  \n",
      "3       False    C  Southampton   yes  False  \n",
      "4        True  NaN  Southampton    no   True  \n"
     ]
    }
   ],
   "source": [
    "# 단계 3: 특성(X)과 타겟(y) 분리하기 (실전 워크플로우)\n",
    "\n",
    "# --- 3.1 전처리된 CSV 파일 불러오기 ---\n",
    "import pandas as pd\n",
    "\n",
    "# pd.read_csv() 함수를 사용해 저장해 둔 파일을 불러와 df 변수에 담기\n",
    "\n",
    "df = pd.read_csv('타이타닉_전처리완료_mldl_250801.csv')\n",
    "\n",
    "print(\"--- 전처리된 데이터가 성공적으로 불러와졌습니다. ---\")\n",
    "print(df.head())"
   ]
  },
  {
   "cell_type": "code",
   "execution_count": 3,
   "id": "88257ed5",
   "metadata": {},
   "outputs": [
    {
     "name": "stdout",
     "output_type": "stream",
     "text": [
      "--- 현재 데이터의 전체 컬럼 목록 ---\n",
      "Index(['survived', 'pclass', 'sex', 'age', 'sibsp', 'parch', 'fare',\n",
      "       'embarked', 'class', 'who', 'adult_male', 'deck', 'embark_town',\n",
      "       'alive', 'alone'],\n",
      "      dtype='object')\n"
     ]
    }
   ],
   "source": [
    "# --- 3.2 예측에 사용할 컬럼들 확인하기 ---\n",
    "# 현재 데이터프레임의 모든 컬럼을 확인합니다.\n",
    "\n",
    "print(\"--- 현재 데이터의 전체 컬럼 목록 ---\")\n",
    "print(df.columns)"
   ]
  },
  {
   "cell_type": "code",
   "execution_count": 4,
   "id": "62c7934a",
   "metadata": {},
   "outputs": [
    {
     "name": "stdout",
     "output_type": "stream",
     "text": [
      "\n",
      "--- 2.3 특성(X)과 타겟(y) 분리 완료 ---\n",
      "\n",
      "[타겟(y) 데이터] (상위 5개)\n",
      "0    0\n",
      "1    1\n",
      "2    1\n",
      "3    1\n",
      "4    0\n",
      "Name: survived, dtype: int64\n",
      "\n",
      "[특성(X) 데이터] (상위 5개)\n",
      "   pclass  sex   age  sibsp  parch     fare  embarked    who  adult_male deck  \\\n",
      "0       3    0  22.0      1      0   7.2500         0    man        True  NaN   \n",
      "1       1    1  38.0      1      0  71.2833         1  woman       False    C   \n",
      "2       3    1  26.0      0      0   7.9250         0  woman       False  NaN   \n",
      "3       1    1  35.0      1      0  53.1000         0  woman       False    C   \n",
      "4       3    0  35.0      0      0   8.0500         0    man        True  NaN   \n",
      "\n",
      "   embark_town alive  alone  \n",
      "0  Southampton    no  False  \n",
      "1    Cherbourg   yes  False  \n",
      "2  Southampton   yes   True  \n",
      "3  Southampton   yes  False  \n",
      "4  Southampton    no   True  \n"
     ]
    }
   ],
   "source": [
    "# --- 3.3 효율적인 방법으로 특성(X)과 타겟(y) 분리 ---\n",
    "\n",
    "# # - 불필요한 컬럼('name', 'ticket' 등)은 제외해야 합니다.\n",
    "\n",
    "# #  - 특성(X)은 모델 학습에 필요한 '문제' 데이터입니다.\n",
    "# # - 특성(X)은 타겟과 예측에 불필요한 컬럼('pclass'가 'class'와 중복)을 제외한 모든 컬럼입니다.\n",
    "\n",
    "# # - 타겟(y)은 모델이 맞춰야 하는 '정답' 데이터입니다.\n",
    "\n",
    "# 타겟(y) 설정: 'survived' 컬럼을 정답 데이터로 지정\n",
    "\n",
    "y = df['survived']\n",
    "\n",
    "# 특성(X) 설정: 'survived' 컬럼을 제외한 모든 컬럼을 X로 지정\n",
    "# df.drop() 함수를 사용해 특정 컬럼을 제거. axis=1은 컬럼을 제거하라는 의미\n",
    "\n",
    "# 'class' 컬럼을 제외한 이유. \n",
    "# 'class' 컬럼은 'pclass' 컬럼과 같은 정보를 담고 있습니다.\n",
    "# 'pclass'는 1, 2, 3등석을 숫자로 나타내고, 'class'는 'First', 'Second', 'Third'로 나타냅니다.\n",
    "# 두 컬럼 중 하나만 있어도 충분하기 때문에, 'pclass'만 남기고 'class'는 제거했습니다.\n",
    "# 이렇게 중복된 정보는 모델 학습 시 오히려 혼란을 줄 수 있어 제거하는 것이 좋습니다.\n",
    "\n",
    "X = df.drop(['survived', 'class'], axis=1)\n",
    "\n",
    "\n",
    "# --- 3. 분리 결과 확인 ---\n",
    "print(\"\\n--- 2.3 특성(X)과 타겟(y) 분리 완료 ---\")\n",
    "print(\"\\n[타겟(y) 데이터] (상위 5개)\")\n",
    "print(y.head())\n",
    "print(\"\\n[특성(X) 데이터] (상위 5개)\")\n",
    "print(X.head())"
   ]
  },
  {
   "cell_type": "code",
   "execution_count": 5,
   "id": "0e9f06f7",
   "metadata": {},
   "outputs": [
    {
     "name": "stdout",
     "output_type": "stream",
     "text": [
      "--- X, y 분리가 완료된 데이터가 CSV 파일로 성공적으로 저장되었습니다. ---\n",
      "     pclass  sex        age  sibsp  parch     fare  embarked    who  \\\n",
      "0         3    0  22.000000      1      0   7.2500         0    man   \n",
      "1         1    1  38.000000      1      0  71.2833         1  woman   \n",
      "2         3    1  26.000000      0      0   7.9250         0  woman   \n",
      "3         1    1  35.000000      1      0  53.1000         0  woman   \n",
      "4         3    0  35.000000      0      0   8.0500         0    man   \n",
      "..      ...  ...        ...    ...    ...      ...       ...    ...   \n",
      "886       2    0  27.000000      0      0  13.0000         0    man   \n",
      "887       1    1  19.000000      0      0  30.0000         0  woman   \n",
      "888       3    1  29.699118      1      2  23.4500         0  woman   \n",
      "889       1    0  26.000000      0      0  30.0000         1    man   \n",
      "890       3    0  32.000000      0      0   7.7500         2    man   \n",
      "\n",
      "     adult_male deck  embark_town alive  alone  survived  \n",
      "0          True  NaN  Southampton    no  False         0  \n",
      "1         False    C    Cherbourg   yes  False         1  \n",
      "2         False  NaN  Southampton   yes   True         1  \n",
      "3         False    C  Southampton   yes  False         1  \n",
      "4          True  NaN  Southampton    no   True         0  \n",
      "..          ...  ...          ...   ...    ...       ...  \n",
      "886        True  NaN  Southampton    no   True         0  \n",
      "887       False    B  Southampton   yes   True         1  \n",
      "888       False  NaN  Southampton    no  False         0  \n",
      "889        True    C    Cherbourg   yes   True         1  \n",
      "890        True  NaN   Queenstown    no   True         0  \n",
      "\n",
      "[891 rows x 14 columns]\n"
     ]
    }
   ],
   "source": [
    "# --- 4. X, y 분리 완료된 데이터 저장 ---\n",
    "\n",
    "# # - X와 y를 합쳐서 저장하는 이유\n",
    "# # - X와 y의 행 순서(인덱스)를 유지해 데이터 무결성을 확보하고,\n",
    "# # - 다음 단계에서 파일을 하나만 관리하며 데이터를 쉽게 재분리하기 위함입니다.\n",
    "\n",
    "# 'X'와 'y'를 합쳐서 하나의 DataFrame으로 만든 후 저장합니다.\n",
    "# axis=1로 설정해 컬럼 방향(옆으로)으로 합칩니다.\n",
    "\n",
    "df_split = pd.concat([X, y], axis=1)\n",
    "\n",
    "\n",
    "# 합쳐진 DataFrame을 새로운 파일명으로 저장\n",
    "\n",
    "df_split.to_csv('타이타닉_분리완료_mldl_250801.csv', index=False)\n",
    "\n",
    "print(\"--- X, y 분리가 완료된 데이터가 CSV 파일로 성공적으로 저장되었습니다. ---\")\n",
    "print(df_split)"
   ]
  }
 ],
 "metadata": {
  "kernelspec": {
   "display_name": "mldl250801",
   "language": "python",
   "name": "python3"
  },
  "language_info": {
   "codemirror_mode": {
    "name": "ipython",
    "version": 3
   },
   "file_extension": ".py",
   "mimetype": "text/x-python",
   "name": "python",
   "nbconvert_exporter": "python",
   "pygments_lexer": "ipython3",
   "version": "3.9.23"
  }
 },
 "nbformat": 4,
 "nbformat_minor": 5
}
